{
 "cells": [
  {
   "cell_type": "markdown",
   "id": "7ce7840a",
   "metadata": {},
   "source": [
    "Notes on the lecture about \"Intro to Julia\""
   ]
  },
  {
   "cell_type": "code",
   "execution_count": 9,
   "id": "553b8a90",
   "metadata": {},
   "outputs": [
    {
     "data": {
      "text/plain": [
       "5.3"
      ]
     },
     "execution_count": 9,
     "metadata": {},
     "output_type": "execute_result"
    }
   ],
   "source": [
    "x = 5.3 # not \"x equals 5.3\" but, \"assign x to be 5.3\""
   ]
  },
  {
   "cell_type": "markdown",
   "id": "2dfaba6c",
   "metadata": {},
   "source": [
    "assignment is not the same as \"equals\"!"
   ]
  },
  {
   "cell_type": "code",
   "execution_count": 10,
   "id": "8080c907",
   "metadata": {},
   "outputs": [
    {
     "data": {
      "text/plain": [
       "true"
      ]
     },
     "execution_count": 10,
     "metadata": {},
     "output_type": "execute_result"
    }
   ],
   "source": [
    "x == 5.3"
   ]
  },
  {
   "cell_type": "code",
   "execution_count": 11,
   "id": "efa208fc",
   "metadata": {},
   "outputs": [
    {
     "name": "stdout",
     "output_type": "stream",
     "text": [
      "hello,world!\n"
     ]
    }
   ],
   "source": [
    "println(\"hello,world!\") ## \"ln\" is for \"line\" to creat a new line afterwards."
   ]
  },
  {
   "cell_type": "code",
   "execution_count": 12,
   "id": "4921b0cb",
   "metadata": {},
   "outputs": [
    {
     "name": "stdout",
     "output_type": "stream",
     "text": [
      "What is x? 5.3\n"
     ]
    }
   ],
   "source": [
    "println(\"What is x? \", x)"
   ]
  },
  {
   "cell_type": "markdown",
   "id": "084d2e77",
   "metadata": {},
   "source": [
    "### Types"
   ]
  },
  {
   "cell_type": "markdown",
   "id": "d8f68b84",
   "metadata": {},
   "source": [
    "x is represented on your computer using a chuck of memory consisting of 64 bits (bit = binary digit). It is represented in the double-precision floating point format."
   ]
  },
  {
   "cell_type": "code",
   "execution_count": 13,
   "id": "21ead1fd",
   "metadata": {},
   "outputs": [
    {
     "data": {
      "text/plain": [
       "Float64"
      ]
     },
     "execution_count": 13,
     "metadata": {},
     "output_type": "execute_result"
    }
   ],
   "source": [
    "typeof(x) # This function returns the data type of the object"
   ]
  },
  {
   "cell_type": "code",
   "execution_count": 14,
   "id": "abd7cbac",
   "metadata": {},
   "outputs": [
    {
     "data": {
      "text/plain": [
       "Int64"
      ]
     },
     "execution_count": 14,
     "metadata": {},
     "output_type": "execute_result"
    }
   ],
   "source": [
    "y = 5\n",
    "typeof(y)"
   ]
  },
  {
   "cell_type": "code",
   "execution_count": 15,
   "id": "dee6578a",
   "metadata": {},
   "outputs": [
    {
     "data": {
      "text/plain": [
       "String"
      ]
     },
     "execution_count": 15,
     "metadata": {},
     "output_type": "execute_result"
    }
   ],
   "source": [
    "my_name = \"Alan\"\n",
    "typeof(my_name)"
   ]
  },
  {
   "cell_type": "markdown",
   "id": "f15ce042",
   "metadata": {},
   "source": [
    "the Symbol is an interned string, which makes e.g. string comparison operations faster."
   ]
  },
  {
   "cell_type": "code",
   "execution_count": 16,
   "id": "3eb84f0d",
   "metadata": {},
   "outputs": [
    {
     "data": {
      "text/plain": [
       "Symbol"
      ]
     },
     "execution_count": 16,
     "metadata": {},
     "output_type": "execute_result"
    }
   ],
   "source": [
    "my_name = :Alan\n",
    "typeof(my_name)"
   ]
  },
  {
   "cell_type": "code",
   "execution_count": 17,
   "id": "b374982a",
   "metadata": {},
   "outputs": [
    {
     "data": {
      "text/plain": [
       "Bool"
      ]
     },
     "execution_count": 17,
     "metadata": {},
     "output_type": "execute_result"
    }
   ],
   "source": [
    "typeof(true)"
   ]
  },
  {
   "cell_type": "markdown",
   "id": "365481c5",
   "metadata": {},
   "source": [
    "### Dictionaries"
   ]
  },
  {
   "cell_type": "code",
   "execution_count": 18,
   "id": "aeeb2e19",
   "metadata": {},
   "outputs": [
    {
     "data": {
      "text/plain": [
       "Dict{Symbol, Float64} with 4 entries:\n",
       "  :N => 14.0067\n",
       "  :H => 1.01\n",
       "  :O => 15.999\n",
       "  :C => 12.01"
      ]
     },
     "execution_count": 18,
     "metadata": {},
     "output_type": "execute_result"
    }
   ],
   "source": [
    "atomic_mass = Dict{Symbol, Float64}(:C => 12.01, :N => 14.0067, :O => 15.999, :H => 1.01)"
   ]
  },
  {
   "cell_type": "markdown",
   "id": "a060d374",
   "metadata": {},
   "source": [
    "note the order is not the same as when we constructed the dictionary... so never assume the dictionary is in a certain order. for ordered elements just use an Array\n",
    "\n",
    "querying a dictionary via passing the key, returning the value"
   ]
  },
  {
   "cell_type": "code",
   "execution_count": 19,
   "id": "88b4e96e",
   "metadata": {},
   "outputs": [
    {
     "data": {
      "text/plain": [
       "12.01"
      ]
     },
     "execution_count": 19,
     "metadata": {},
     "output_type": "execute_result"
    }
   ],
   "source": [
    "atomic_mass[:C]"
   ]
  },
  {
   "cell_type": "markdown",
   "id": "22f30bdd",
   "metadata": {},
   "source": [
    "add a (key, value) pair to a dictionary"
   ]
  },
  {
   "cell_type": "code",
   "execution_count": 20,
   "id": "7e133de7",
   "metadata": {},
   "outputs": [
    {
     "data": {
      "text/plain": [
       "Dict{Symbol, Float64} with 5 entries:\n",
       "  :N  => 14.0067\n",
       "  :Fe => 55.845\n",
       "  :H  => 1.01\n",
       "  :O  => 15.999\n",
       "  :C  => 12.01"
      ]
     },
     "execution_count": 20,
     "metadata": {},
     "output_type": "execute_result"
    }
   ],
   "source": [
    "atomic_mass[:Fe] = 55.845\n",
    "atomic_mass"
   ]
  },
  {
   "cell_type": "markdown",
   "id": "0eb26621",
   "metadata": {},
   "source": [
    "You can also change the value of a key in the dictionary. "
   ]
  },
  {
   "cell_type": "code",
   "execution_count": 21,
   "id": "61286356",
   "metadata": {},
   "outputs": [
    {
     "data": {
      "text/plain": [
       "Dict{Symbol, Float64} with 5 entries:\n",
       "  :N  => 14.0067\n",
       "  :Fe => 55.845\n",
       "  :H  => 1.008\n",
       "  :O  => 15.999\n",
       "  :C  => 12.01"
      ]
     },
     "execution_count": 21,
     "metadata": {},
     "output_type": "execute_result"
    }
   ],
   "source": [
    "atomic_mass[:H] = 1.008\n",
    "atomic_mass"
   ]
  },
  {
   "cell_type": "code",
   "execution_count": 22,
   "id": "a75fecc7",
   "metadata": {},
   "outputs": [
    {
     "name": "stdout",
     "output_type": "stream",
     "text": [
      "the atomic mass of N is 14.0067\n",
      "the atomic mass of Fe is 55.845\n",
      "the atomic mass of H is 1.008\n",
      "the atomic mass of O is 15.999\n",
      "the atomic mass of C is 12.01\n"
     ]
    }
   ],
   "source": [
    "for (element, mass) in atomic_mass # iterate over, unpack the (key, value) pairs\n",
    "    print(\"the atomic mass of \")\n",
    "    print(element)\n",
    "    println(\" is \", mass)\n",
    "end"
   ]
  },
  {
   "cell_type": "markdown",
   "id": "8feafc06",
   "metadata": {},
   "source": [
    "what are the keys? what are the values?\n",
    "\n"
   ]
  },
  {
   "cell_type": "code",
   "execution_count": 23,
   "id": "8df906da",
   "metadata": {},
   "outputs": [
    {
     "data": {
      "text/plain": [
       "KeySet for a Dict{Symbol, Float64} with 5 entries. Keys:\n",
       "  :N\n",
       "  :Fe\n",
       "  :H\n",
       "  :O\n",
       "  :C"
      ]
     },
     "execution_count": 23,
     "metadata": {},
     "output_type": "execute_result"
    }
   ],
   "source": [
    "keys(atomic_mass)"
   ]
  },
  {
   "cell_type": "code",
   "execution_count": 24,
   "id": "53117ab1",
   "metadata": {},
   "outputs": [
    {
     "data": {
      "text/plain": [
       "ValueIterator for a Dict{Symbol, Float64} with 5 entries. Values:\n",
       "  14.0067\n",
       "  55.845\n",
       "  1.008\n",
       "  15.999\n",
       "  12.01"
      ]
     },
     "execution_count": 24,
     "metadata": {},
     "output_type": "execute_result"
    }
   ],
   "source": [
    "values(atomic_mass)"
   ]
  },
  {
   "cell_type": "markdown",
   "id": "a968f850",
   "metadata": {},
   "source": [
    "### Arrays"
   ]
  },
  {
   "cell_type": "code",
   "execution_count": 25,
   "id": "ef302618",
   "metadata": {},
   "outputs": [
    {
     "data": {
      "text/plain": [
       "4-element Vector{Float64}:\n",
       "  6.3\n",
       "  1.2\n",
       "  8.2\n",
       " 10.8"
      ]
     },
     "execution_count": 25,
     "metadata": {},
     "output_type": "execute_result"
    }
   ],
   "source": [
    "x = [6.3, 1.2, 8.2, 10.8]"
   ]
  },
  {
   "cell_type": "code",
   "execution_count": 30,
   "id": "b332ad24",
   "metadata": {},
   "outputs": [
    {
     "data": {
      "text/plain": [
       "4-element Vector{Float64}:\n",
       "  6.3\n",
       "  1.2\n",
       " 43.0\n",
       " 10.8"
      ]
     },
     "execution_count": 30,
     "metadata": {},
     "output_type": "execute_result"
    }
   ],
   "source": [
    "x[3] = 43.0 # Change the third element. Julia indexes on the 1. Just like matlab\n",
    "x"
   ]
  },
  {
   "cell_type": "markdown",
   "id": "eff4868b",
   "metadata": {},
   "source": [
    "### Iterating through an array"
   ]
  },
  {
   "cell_type": "code",
   "execution_count": 33,
   "id": "14c99ebb",
   "metadata": {},
   "outputs": [
    {
     "name": "stdout",
     "output_type": "stream",
     "text": [
      "x[1] = 6.3\n",
      "x[2] = 1.2\n",
      "x[3] = 43.0\n",
      "x[4] = 10.8\n",
      "entries are: \n",
      "  6.3\n",
      "  1.2\n",
      "  43.0\n",
      "  10.8\n",
      "x[1] = 6.3\n",
      "x[2] = 1.2\n",
      "x[3] = 43.0\n",
      "x[4] = 10.8\n"
     ]
    }
   ],
   "source": [
    "# (1) iterating through indices of the array 1,2,...,length(x)\n",
    "for i = 1:length(x)\n",
    "    println(\"x[$i] = \", x[i])\n",
    "end\n",
    "\n",
    "# (2) directly iterating through the elements\n",
    "println(\"entries are: \")\n",
    "for element in x\n",
    "    println(\"  \", element)\n",
    "end\n",
    "\n",
    "# (3) iterating through both the indices and the elements\n",
    "for (i, ele) in enumerate(x)\n",
    "    println(\"x[$i] = $ele\")\n",
    "end"
   ]
  },
  {
   "cell_type": "markdown",
   "id": "b84b67d0",
   "metadata": {},
   "source": [
    "### Adding elements to an array\n",
    "This is similar to python's built in function, append"
   ]
  },
  {
   "cell_type": "code",
   "execution_count": 34,
   "id": "e74a6ca4",
   "metadata": {},
   "outputs": [
    {
     "data": {
      "text/plain": [
       "5-element Vector{Float64}:\n",
       "  6.3\n",
       "  1.2\n",
       " 43.0\n",
       " 10.8\n",
       " 23.0"
      ]
     },
     "execution_count": 34,
     "metadata": {},
     "output_type": "execute_result"
    }
   ],
   "source": [
    "push!(x,23.0) # exclamation means function will modify its argument"
   ]
  },
  {
   "cell_type": "markdown",
   "id": "17582240",
   "metadata": {},
   "source": [
    "Let's push x to the front of the array"
   ]
  },
  {
   "cell_type": "code",
   "execution_count": 35,
   "id": "79f6db93",
   "metadata": {},
   "outputs": [
    {
     "data": {
      "text/plain": [
       "6-element Vector{Float64}:\n",
       "  0.0\n",
       "  6.3\n",
       "  1.2\n",
       " 43.0\n",
       " 10.8\n",
       " 23.0"
      ]
     },
     "execution_count": 35,
     "metadata": {},
     "output_type": "execute_result"
    }
   ],
   "source": [
    "pushfirst!(x, 0.0)\n",
    "x"
   ]
  },
  {
   "cell_type": "markdown",
   "id": "4d1f3567",
   "metadata": {},
   "source": [
    "### Slicing\n",
    "by indicies (by Arrays of Int64s)"
   ]
  },
  {
   "cell_type": "code",
   "execution_count": 37,
   "id": "09457b34",
   "metadata": {},
   "outputs": [
    {
     "name": "stdout",
     "output_type": "stream",
     "text": [
      "x = [0.0, 6.3, 1.2, 43.0, 10.8, 23.0]\n",
      "x[ids_i_want] = [6.3, 23.0]\n"
     ]
    }
   ],
   "source": [
    "ids_i_want = [2, 6]\n",
    "\n",
    "println(\"x = \", x) # Print the original x array\n",
    "println(\"x[ids_i_want] = \", x[ids_i_want]) # Prints the values of the second and sixth indices"
   ]
  },
  {
   "cell_type": "code",
   "execution_count": 39,
   "id": "c6031c9f",
   "metadata": {},
   "outputs": [
    {
     "data": {
      "text/plain": [
       "2-element Vector{Float64}:\n",
       " 6.3\n",
       " 1.2"
      ]
     },
     "execution_count": 39,
     "metadata": {},
     "output_type": "execute_result"
    }
   ],
   "source": [
    "x[2:3] # slice the array from the second to the third element (inclusive)"
   ]
  },
  {
   "cell_type": "code",
   "execution_count": 40,
   "id": "b165c158",
   "metadata": {},
   "outputs": [
    {
     "data": {
      "text/plain": [
       "5-element Vector{Float64}:\n",
       "  6.3\n",
       "  1.2\n",
       " 43.0\n",
       " 10.8\n",
       " 23.0"
      ]
     },
     "execution_count": 40,
     "metadata": {},
     "output_type": "execute_result"
    }
   ],
   "source": [
    "x[2:end] # slice the array from the second the the last element (inclusive)"
   ]
  },
  {
   "cell_type": "markdown",
   "id": "669c956c",
   "metadata": {},
   "source": [
    "by specifying whether or not (true/false) we want to keep each element (by Arrays of Bools)\n",
    "this way of slicing is especially useful for selecting certain elements of an array that obey a certain condition"
   ]
  },
  {
   "cell_type": "code",
   "execution_count": 42,
   "id": "699c3f2c",
   "metadata": {},
   "outputs": [
    {
     "name": "stdout",
     "output_type": "stream",
     "text": [
      "x = [0.0, 6.3, 1.2, 43.0, 10.8, 23.0]\n",
      "x[keep_entry] = [0.0, 23.0]\n"
     ]
    }
   ],
   "source": [
    "keep_entry = [true, false, false, false, false, true]\n",
    "\n",
    "println(\"x = \", x)\n",
    "println(\"x[keep_entry] = \", x[keep_entry]) # Only prints the first and last element since those are try in the `keep_entry` array"
   ]
  },
  {
   "cell_type": "markdown",
   "id": "68fd42f3",
   "metadata": {},
   "source": [
    "e.g., lets get all array elements that are greater than 12"
   ]
  },
  {
   "cell_type": "code",
   "execution_count": 43,
   "id": "f532bb6a",
   "metadata": {},
   "outputs": [
    {
     "ename": "LoadError",
     "evalue": "MethodError: no method matching isless(::Float64, ::Vector{Float64})\nThe function `isless` exists, but no method is defined for this combination of argument types.\n\n\u001b[0mClosest candidates are:\n\u001b[0m  isless(\u001b[91m::Missing\u001b[39m, ::Any)\n\u001b[0m\u001b[90m   @\u001b[39m \u001b[90mBase\u001b[39m \u001b[90m\u001b[4mmissing.jl:87\u001b[24m\u001b[39m\n\u001b[0m  isless(::Any, \u001b[91m::Missing\u001b[39m)\n\u001b[0m\u001b[90m   @\u001b[39m \u001b[90mBase\u001b[39m \u001b[90m\u001b[4mmissing.jl:88\u001b[24m\u001b[39m\n\u001b[0m  isless(::T, \u001b[91m::T\u001b[39m) where T<:Union{Float16, Float32, Float64}\n\u001b[0m\u001b[90m   @\u001b[39m \u001b[90mBase\u001b[39m \u001b[90m\u001b[4mfloat.jl:630\u001b[24m\u001b[39m\n\u001b[0m  ...\n",
     "output_type": "error",
     "traceback": [
      "MethodError: no method matching isless(::Float64, ::Vector{Float64})\nThe function `isless` exists, but no method is defined for this combination of argument types.\n\n\u001b[0mClosest candidates are:\n\u001b[0m  isless(\u001b[91m::Missing\u001b[39m, ::Any)\n\u001b[0m\u001b[90m   @\u001b[39m \u001b[90mBase\u001b[39m \u001b[90m\u001b[4mmissing.jl:87\u001b[24m\u001b[39m\n\u001b[0m  isless(::Any, \u001b[91m::Missing\u001b[39m)\n\u001b[0m\u001b[90m   @\u001b[39m \u001b[90mBase\u001b[39m \u001b[90m\u001b[4mmissing.jl:88\u001b[24m\u001b[39m\n\u001b[0m  isless(::T, \u001b[91m::T\u001b[39m) where T<:Union{Float16, Float32, Float64}\n\u001b[0m\u001b[90m   @\u001b[39m \u001b[90mBase\u001b[39m \u001b[90m\u001b[4mfloat.jl:630\u001b[24m\u001b[39m\n\u001b[0m  ...\n",
      "",
      "Stacktrace:",
      " [1] <(x::Float64, y::Vector{Float64})",
      "   @ Base ./operators.jl:353",
      " [2] >(x::Vector{Float64}, y::Float64)",
      "   @ Base ./operators.jl:379",
      " [3] top-level scope",
      "   @ In[43]:1"
     ]
    }
   ],
   "source": [
    "x > 12.0 # \"is this vector greater than this number?\" makes no sense.\n"
   ]
  },
  {
   "cell_type": "code",
   "execution_count": 44,
   "id": "e103c4b3",
   "metadata": {},
   "outputs": [
    {
     "data": {
      "text/plain": [
       "6-element BitVector:\n",
       " 0\n",
       " 0\n",
       " 0\n",
       " 1\n",
       " 0\n",
       " 1"
      ]
     },
     "execution_count": 44,
     "metadata": {},
     "output_type": "execute_result"
    }
   ],
   "source": [
    "x .> 12.0 # elementwise [array of bits is similar to array of bools]\n"
   ]
  },
  {
   "cell_type": "markdown",
   "id": "a191d7ef",
   "metadata": {},
   "source": [
    "If we want to pull these values, we can do a bit of tweaking to the previous cell"
   ]
  },
  {
   "cell_type": "code",
   "execution_count": 45,
   "id": "f22b4b15",
   "metadata": {},
   "outputs": [
    {
     "data": {
      "text/plain": [
       "2-element Vector{Float64}:\n",
       " 43.0\n",
       " 23.0"
      ]
     },
     "execution_count": 45,
     "metadata": {},
     "output_type": "execute_result"
    }
   ],
   "source": [
    "x[x .> 12.0]\n"
   ]
  },
  {
   "cell_type": "markdown",
   "id": "5a267118",
   "metadata": {},
   "source": [
    "### Multi-dimensional arrays"
   ]
  },
  {
   "cell_type": "code",
   "execution_count": 46,
   "id": "df9f22e1",
   "metadata": {},
   "outputs": [
    {
     "data": {
      "text/plain": [
       "2×3 Matrix{Int64}:\n",
       " 1  3  1\n",
       " 0  8  3"
      ]
     },
     "execution_count": 46,
     "metadata": {},
     "output_type": "execute_result"
    }
   ],
   "source": [
    "y = [1 3 1;\n",
    "     0 8 3]"
   ]
  },
  {
   "cell_type": "code",
   "execution_count": 48,
   "id": "8f4edfbe",
   "metadata": {},
   "outputs": [
    {
     "data": {
      "text/plain": [
       "(2, 3)"
      ]
     },
     "execution_count": 48,
     "metadata": {},
     "output_type": "execute_result"
    }
   ],
   "source": [
    "size(y)"
   ]
  },
  {
   "cell_type": "code",
   "execution_count": 50,
   "id": "6051d052",
   "metadata": {},
   "outputs": [
    {
     "data": {
      "text/plain": [
       "2-element Vector{Int64}:\n",
       " 3\n",
       " 8"
      ]
     },
     "execution_count": 50,
     "metadata": {},
     "output_type": "execute_result"
    }
   ],
   "source": [
    "y[:,2]"
   ]
  },
  {
   "cell_type": "code",
   "execution_count": 52,
   "id": "826fced8",
   "metadata": {},
   "outputs": [
    {
     "data": {
      "text/plain": [
       "2×3 Matrix{Int64}:\n",
       " 1  3  400\n",
       " 0  8    3"
      ]
     },
     "execution_count": 52,
     "metadata": {},
     "output_type": "execute_result"
    }
   ],
   "source": [
    "y[1,3] = 400 # Changing the element \n",
    "y"
   ]
  },
  {
   "cell_type": "markdown",
   "id": "df332e82",
   "metadata": {},
   "source": [
    "### Constructing an array\n",
    "without manually typing out its elements "
   ]
  },
  {
   "cell_type": "code",
   "execution_count": 53,
   "id": "dcf2eebd",
   "metadata": {},
   "outputs": [
    {
     "data": {
      "text/plain": [
       "5-element Vector{Float64}:\n",
       "  2.0\n",
       "  4.0\n",
       "  6.0\n",
       "  8.0\n",
       " 10.0"
      ]
     },
     "execution_count": 53,
     "metadata": {},
     "output_type": "execute_result"
    }
   ],
   "source": [
    "# (1) list comprehnsion (fast, beautiful)\n",
    "x = [2.0 * i for i = 1:5] # think \"what do I want in element i?\"\n",
    "\n",
    "# (2) pre-allocate memory, fill in (fast, takes a few lines)\n",
    "x = zeros(Float64, 5) # construct a 5-element array with zeros\n",
    "for i = 1:5\n",
    "    x[i] = 2 * i\n",
    "end\n",
    "\n",
    "# (3) start with empty array, add values (slow)\n",
    "x = Float64[]\n",
    "for i = 1:5\n",
    "    push!(x, 2 * i)\n",
    "end\n",
    "x"
   ]
  },
  {
   "cell_type": "markdown",
   "id": "da1df332",
   "metadata": {},
   "source": [
    "### Operations on arrays\n",
    "precede with . to indicate element-wise"
   ]
  },
  {
   "cell_type": "code",
   "execution_count": 57,
   "id": "a2f1e66b",
   "metadata": {},
   "outputs": [
    {
     "data": {
      "text/plain": [
       "3-element Vector{Float64}:\n",
       "  0.0\n",
       "  6.0\n",
       " 14.0"
      ]
     },
     "execution_count": 57,
     "metadata": {},
     "output_type": "execute_result"
    }
   ],
   "source": [
    "x = [0.0, 1.0, 2.0]\n",
    "y = [5.0, 6.0, 7.0]\n",
    "\n",
    "x.*y"
   ]
  },
  {
   "cell_type": "code",
   "execution_count": 59,
   "id": "7466483d",
   "metadata": {},
   "outputs": [
    {
     "data": {
      "text/plain": [
       "3-element Vector{Float64}:\n",
       " 5.0\n",
       " 7.0\n",
       " 9.0"
      ]
     },
     "execution_count": 59,
     "metadata": {},
     "output_type": "execute_result"
    }
   ],
   "source": [
    "x .+ y"
   ]
  },
  {
   "cell_type": "code",
   "execution_count": 60,
   "id": "30a13115",
   "metadata": {},
   "outputs": [
    {
     "data": {
      "text/plain": [
       "3-element Vector{Float64}:\n",
       " 0.0\n",
       " 0.8414709848078965\n",
       " 0.9092974268256817"
      ]
     },
     "execution_count": 60,
     "metadata": {},
     "output_type": "execute_result"
    }
   ],
   "source": [
    "sin.(x)"
   ]
  },
  {
   "cell_type": "code",
   "execution_count": 62,
   "id": "039d5d4e",
   "metadata": {},
   "outputs": [
    {
     "data": {
      "text/plain": [
       "3×3 Matrix{Float64}:\n",
       " 0.194764  0.234025  0.0894094\n",
       " 0.4738    0.970849  0.553748\n",
       " 0.5683    0.227752  0.179573"
      ]
     },
     "execution_count": 62,
     "metadata": {},
     "output_type": "execute_result"
    }
   ],
   "source": [
    "A = rand(3,3)"
   ]
  },
  {
   "cell_type": "code",
   "execution_count": 63,
   "id": "f758895c",
   "metadata": {},
   "outputs": [
    {
     "data": {
      "text/plain": [
       "3-element Vector{Float64}:\n",
       " 0.41284373013383424\n",
       " 2.0783440830468476\n",
       " 0.5868970430648129"
      ]
     },
     "execution_count": 63,
     "metadata": {},
     "output_type": "execute_result"
    }
   ],
   "source": [
    "A *x "
   ]
  },
  {
   "cell_type": "markdown",
   "id": "65552c91",
   "metadata": {},
   "source": [
    "### Create your own data structure"
   ]
  },
  {
   "cell_type": "code",
   "execution_count": 64,
   "id": "36bcc7ec",
   "metadata": {},
   "outputs": [
    {
     "data": {
      "text/plain": [
       "Molecule(:methane, [:C, :H, :H, :H, :H])"
      ]
     },
     "execution_count": 64,
     "metadata": {},
     "output_type": "execute_result"
    }
   ],
   "source": [
    "struct Molecule\n",
    "    species::Symbol\n",
    "    atoms::Array{Symbol}\n",
    "end\n",
    "\n",
    "molecule = Molecule(:methane, [:C,:H, :H, :H, :H])"
   ]
  },
  {
   "cell_type": "code",
   "execution_count": 65,
   "id": "06cd99bf",
   "metadata": {},
   "outputs": [
    {
     "data": {
      "text/plain": [
       ":methane"
      ]
     },
     "execution_count": 65,
     "metadata": {},
     "output_type": "execute_result"
    }
   ],
   "source": [
    "molecule.species # pull the attributes"
   ]
  },
  {
   "cell_type": "markdown",
   "id": "ee07d63b",
   "metadata": {},
   "source": [
    "### Functions"
   ]
  },
  {
   "cell_type": "code",
   "execution_count": null,
   "id": "29c27337",
   "metadata": {},
   "outputs": [],
   "source": []
  }
 ],
 "metadata": {
  "kernelspec": {
   "display_name": "Julia 1.11.5",
   "language": "julia",
   "name": "julia-1.11"
  },
  "language_info": {
   "file_extension": ".jl",
   "mimetype": "application/julia",
   "name": "julia",
   "version": "1.11.5"
  }
 },
 "nbformat": 4,
 "nbformat_minor": 5
}
