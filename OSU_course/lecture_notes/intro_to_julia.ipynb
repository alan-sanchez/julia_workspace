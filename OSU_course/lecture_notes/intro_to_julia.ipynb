{
 "cells": [
  {
   "cell_type": "markdown",
   "id": "7ce7840a",
   "metadata": {},
   "source": [
    "Notes on the lecture about \"Intro to Julia\""
   ]
  },
  {
   "cell_type": "code",
   "execution_count": 1,
   "id": "553b8a90",
   "metadata": {},
   "outputs": [
    {
     "data": {
      "text/plain": [
       "5.3"
      ]
     },
     "execution_count": 1,
     "metadata": {},
     "output_type": "execute_result"
    }
   ],
   "source": [
    "x = 5.3 # not \"x equals 5.3\" but, \"assign x to be 5.3\""
   ]
  },
  {
   "cell_type": "markdown",
   "id": "2dfaba6c",
   "metadata": {},
   "source": [
    "assignment is not the same as \"equals\"!"
   ]
  },
  {
   "cell_type": "code",
   "execution_count": 2,
   "id": "8080c907",
   "metadata": {},
   "outputs": [
    {
     "data": {
      "text/plain": [
       "true"
      ]
     },
     "execution_count": 2,
     "metadata": {},
     "output_type": "execute_result"
    }
   ],
   "source": [
    "x == 5.3"
   ]
  },
  {
   "cell_type": "code",
   "execution_count": 3,
   "id": "efa208fc",
   "metadata": {},
   "outputs": [
    {
     "name": "stdout",
     "output_type": "stream",
     "text": [
      "hello,world!\n"
     ]
    }
   ],
   "source": [
    "println(\"hello,world!\") ## \"ln\" is for \"line\" to creat a new line afterwards."
   ]
  },
  {
   "cell_type": "code",
   "execution_count": 4,
   "id": "4921b0cb",
   "metadata": {},
   "outputs": [
    {
     "name": "stdout",
     "output_type": "stream",
     "text": [
      "What is x? 5.3\n"
     ]
    }
   ],
   "source": [
    "println(\"What is x? \", x)"
   ]
  },
  {
   "cell_type": "markdown",
   "id": "084d2e77",
   "metadata": {},
   "source": [
    "### Types"
   ]
  },
  {
   "cell_type": "markdown",
   "id": "d8f68b84",
   "metadata": {},
   "source": [
    "x is represented on your computer using a chuck of memory consisting of 64 bits (bit = binary digit). It is represented in the double-precision floating point format."
   ]
  },
  {
   "cell_type": "code",
   "execution_count": 6,
   "id": "21ead1fd",
   "metadata": {},
   "outputs": [
    {
     "data": {
      "text/plain": [
       "Float64"
      ]
     },
     "execution_count": 6,
     "metadata": {},
     "output_type": "execute_result"
    }
   ],
   "source": [
    "typeof(x) # This function returns the data type of the object"
   ]
  },
  {
   "cell_type": "code",
   "execution_count": 7,
   "id": "abd7cbac",
   "metadata": {},
   "outputs": [
    {
     "data": {
      "text/plain": [
       "Int64"
      ]
     },
     "execution_count": 7,
     "metadata": {},
     "output_type": "execute_result"
    }
   ],
   "source": [
    "y = 5\n",
    "typeof(y)"
   ]
  },
  {
   "cell_type": "code",
   "execution_count": 10,
   "id": "dee6578a",
   "metadata": {},
   "outputs": [
    {
     "data": {
      "text/plain": [
       "String"
      ]
     },
     "execution_count": 10,
     "metadata": {},
     "output_type": "execute_result"
    }
   ],
   "source": [
    "my_name = \"Alan\"\n",
    "typeof(my_name)"
   ]
  },
  {
   "cell_type": "markdown",
   "id": "f15ce042",
   "metadata": {},
   "source": [
    "the Symbol is an interned string, which makes e.g. string comparison operations faster."
   ]
  },
  {
   "cell_type": "code",
   "execution_count": 12,
   "id": "3eb84f0d",
   "metadata": {},
   "outputs": [
    {
     "data": {
      "text/plain": [
       "Symbol"
      ]
     },
     "execution_count": 12,
     "metadata": {},
     "output_type": "execute_result"
    }
   ],
   "source": [
    "my_name = :Alan\n",
    "typeof(my_name)"
   ]
  },
  {
   "cell_type": "code",
   "execution_count": 13,
   "id": "b374982a",
   "metadata": {},
   "outputs": [
    {
     "data": {
      "text/plain": [
       "Bool"
      ]
     },
     "execution_count": 13,
     "metadata": {},
     "output_type": "execute_result"
    }
   ],
   "source": [
    "typeof(true)"
   ]
  },
  {
   "cell_type": "markdown",
   "id": "365481c5",
   "metadata": {},
   "source": [
    "### Dictionaries"
   ]
  },
  {
   "cell_type": "code",
   "execution_count": 14,
   "id": "aeeb2e19",
   "metadata": {},
   "outputs": [
    {
     "data": {
      "text/plain": [
       "Dict{Symbol, Float64} with 4 entries:\n",
       "  :N => 14.0067\n",
       "  :H => 1.01\n",
       "  :O => 15.999\n",
       "  :C => 12.01"
      ]
     },
     "execution_count": 14,
     "metadata": {},
     "output_type": "execute_result"
    }
   ],
   "source": [
    "atomic_mass = Dict{Symbol, Float64}(:C => 12.01, :N => 14.0067, :O => 15.999, :H => 1.01)"
   ]
  },
  {
   "cell_type": "markdown",
   "id": "a060d374",
   "metadata": {},
   "source": [
    "note the order is not the same as when we constructed the dictionary... so never assume the dictionary is in a certain order. for ordered elements just use an Array\n",
    "\n",
    "querying a dictionary via passing the key, returning the value"
   ]
  },
  {
   "cell_type": "code",
   "execution_count": 15,
   "id": "88b4e96e",
   "metadata": {},
   "outputs": [
    {
     "data": {
      "text/plain": [
       "12.01"
      ]
     },
     "execution_count": 15,
     "metadata": {},
     "output_type": "execute_result"
    }
   ],
   "source": [
    "atomic_mass[:C]"
   ]
  },
  {
   "cell_type": "markdown",
   "id": "22f30bdd",
   "metadata": {},
   "source": [
    "add a (key, value) pair to a dictionary"
   ]
  },
  {
   "cell_type": "code",
   "execution_count": 17,
   "id": "7e133de7",
   "metadata": {},
   "outputs": [
    {
     "data": {
      "text/plain": [
       "Dict{Symbol, Float64} with 5 entries:\n",
       "  :N  => 14.0067\n",
       "  :Fe => 55.845\n",
       "  :H  => 1.01\n",
       "  :O  => 15.999\n",
       "  :C  => 12.01"
      ]
     },
     "execution_count": 17,
     "metadata": {},
     "output_type": "execute_result"
    }
   ],
   "source": [
    "atomic_mass[:Fe] = 55.845\n",
    "atomic_mass"
   ]
  },
  {
   "cell_type": "markdown",
   "id": "0eb26621",
   "metadata": {},
   "source": [
    "You can also change the value of a key in the dictionary. "
   ]
  },
  {
   "cell_type": "code",
   "execution_count": 18,
   "id": "61286356",
   "metadata": {},
   "outputs": [
    {
     "data": {
      "text/plain": [
       "Dict{Symbol, Float64} with 5 entries:\n",
       "  :N  => 14.0067\n",
       "  :Fe => 55.845\n",
       "  :H  => 1.008\n",
       "  :O  => 15.999\n",
       "  :C  => 12.01"
      ]
     },
     "execution_count": 18,
     "metadata": {},
     "output_type": "execute_result"
    }
   ],
   "source": [
    "atomic_mass[:H] = 1.008\n",
    "atomic_mass"
   ]
  },
  {
   "cell_type": "code",
   "execution_count": 19,
   "id": "a75fecc7",
   "metadata": {},
   "outputs": [
    {
     "name": "stdout",
     "output_type": "stream",
     "text": [
      "the atomic mass of N is 14.0067\n",
      "the atomic mass of Fe is 55.845\n",
      "the atomic mass of H is 1.008\n",
      "the atomic mass of O is 15.999\n",
      "the atomic mass of C is 12.01\n"
     ]
    }
   ],
   "source": [
    "for (element, mass) in atomic_mass # iterate over, unpack the (key, value) pairs\n",
    "    print(\"the atomic mass of \")\n",
    "    print(element)\n",
    "    println(\" is \", mass)\n",
    "end"
   ]
  },
  {
   "cell_type": "code",
   "execution_count": null,
   "id": "8feafc06",
   "metadata": {},
   "outputs": [],
   "source": []
  }
 ],
 "metadata": {
  "kernelspec": {
   "display_name": "Julia 1.11.5",
   "language": "julia",
   "name": "julia-1.11"
  },
  "language_info": {
   "file_extension": ".jl",
   "mimetype": "application/julia",
   "name": "julia",
   "version": "1.11.5"
  }
 },
 "nbformat": 4,
 "nbformat_minor": 5
}
