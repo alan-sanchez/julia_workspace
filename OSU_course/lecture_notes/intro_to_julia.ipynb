{
 "cells": [
  {
   "cell_type": "markdown",
   "id": "7ce7840a",
   "metadata": {},
   "source": [
    "Notes on the lecture about \"Intro to Julia\""
   ]
  },
  {
   "cell_type": "code",
   "execution_count": 1,
   "id": "553b8a90",
   "metadata": {},
   "outputs": [
    {
     "data": {
      "text/plain": [
       "5.3"
      ]
     },
     "execution_count": 1,
     "metadata": {},
     "output_type": "execute_result"
    }
   ],
   "source": [
    "x = 5.3 # not \"x equals 5.3\" but, \"assign x to be 5.3\""
   ]
  },
  {
   "cell_type": "markdown",
   "id": "2dfaba6c",
   "metadata": {},
   "source": [
    "assignment is not the same as \"equals\"!"
   ]
  },
  {
   "cell_type": "code",
   "execution_count": 2,
   "id": "8080c907",
   "metadata": {},
   "outputs": [
    {
     "data": {
      "text/plain": [
       "true"
      ]
     },
     "execution_count": 2,
     "metadata": {},
     "output_type": "execute_result"
    }
   ],
   "source": [
    "x == 5.3"
   ]
  },
  {
   "cell_type": "code",
   "execution_count": 3,
   "id": "efa208fc",
   "metadata": {},
   "outputs": [
    {
     "name": "stdout",
     "output_type": "stream",
     "text": [
      "hello,world!\n"
     ]
    }
   ],
   "source": [
    "println(\"hello,world!\") ## \"ln\" is for \"line\" to creat a new line afterwards."
   ]
  },
  {
   "cell_type": "code",
   "execution_count": 4,
   "id": "4921b0cb",
   "metadata": {},
   "outputs": [
    {
     "name": "stdout",
     "output_type": "stream",
     "text": [
      "What is x? 5.3\n"
     ]
    }
   ],
   "source": [
    "println(\"What is x? \", x)"
   ]
  },
  {
   "cell_type": "markdown",
   "id": "084d2e77",
   "metadata": {},
   "source": [
    "### Types"
   ]
  },
  {
   "cell_type": "markdown",
   "id": "d8f68b84",
   "metadata": {},
   "source": [
    "x is represented on your computer using a chuck of memory consisting of 64 bits (bit = binary digit). It is represented in the double-precision floating point format."
   ]
  },
  {
   "cell_type": "code",
   "execution_count": 6,
   "id": "21ead1fd",
   "metadata": {},
   "outputs": [
    {
     "data": {
      "text/plain": [
       "Float64"
      ]
     },
     "execution_count": 6,
     "metadata": {},
     "output_type": "execute_result"
    }
   ],
   "source": [
    "typeof(x) # This function returns the data type of the object"
   ]
  },
  {
   "cell_type": "code",
   "execution_count": 7,
   "id": "abd7cbac",
   "metadata": {},
   "outputs": [
    {
     "data": {
      "text/plain": [
       "Int64"
      ]
     },
     "execution_count": 7,
     "metadata": {},
     "output_type": "execute_result"
    }
   ],
   "source": [
    "y = 5\n",
    "typeof(y)"
   ]
  },
  {
   "cell_type": "code",
   "execution_count": 10,
   "id": "dee6578a",
   "metadata": {},
   "outputs": [
    {
     "data": {
      "text/plain": [
       "String"
      ]
     },
     "execution_count": 10,
     "metadata": {},
     "output_type": "execute_result"
    }
   ],
   "source": [
    "my_name = \"Alan\"\n",
    "typeof(my_name)"
   ]
  },
  {
   "cell_type": "code",
   "execution_count": null,
   "id": "f15ce042",
   "metadata": {},
   "outputs": [],
   "source": []
  }
 ],
 "metadata": {
  "kernelspec": {
   "display_name": "Julia 1.11.5",
   "language": "julia",
   "name": "julia-1.11"
  },
  "language_info": {
   "file_extension": ".jl",
   "mimetype": "application/julia",
   "name": "julia",
   "version": "1.11.5"
  }
 },
 "nbformat": 4,
 "nbformat_minor": 5
}
