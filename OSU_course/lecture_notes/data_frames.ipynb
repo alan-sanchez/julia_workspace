{
 "cells": [
  {
   "cell_type": "markdown",
   "id": "045bac01",
   "metadata": {},
   "source": [
    "# Data Frames\n",
    "\n",
    "a DataFrame is a popular data structure (in many languages) for storing data in tabular form (rows, columns)\n",
    "the Julia package DataFrames.jl has many functions that operate on DataFrames that allow us to quickly query and manipulate data\n",
    "it can handle missing values efficiently\n",
    "the Julia package CSV.jl allows us to quickly and flexibly read/write CSV (= comma-separated value) files from/to DataFrames\n",
    "You need to install these packages:\n",
    "\n",
    "```bash\n",
    "using Pkg\n",
    "Pkg.add(\"DataFrames\")\n",
    "Pkg.add(\"CSV\")\n",
    "```"
   ]
  },
  {
   "cell_type": "code",
   "execution_count": 1,
   "id": "3c770f2c",
   "metadata": {},
   "outputs": [],
   "source": [
    "# always list packages you use at the top\n",
    "using DataFrames # load into namespace all of the functions, data types, variables from the `DataFrames` package\n",
    "using CSV\n",
    "using Printf # for print formating\n",
    "using Statistics # for `mean`"
   ]
  },
  {
   "cell_type": "markdown",
   "id": "a34f9cb2",
   "metadata": {},
   "source": [
    "## Construct a `DataFrame`\n",
    "This construction approach is an array-styel that has the order memorized."
   ]
  },
  {
   "cell_type": "code",
   "execution_count": 12,
   "id": "07c04d46",
   "metadata": {},
   "outputs": [
    {
     "data": {
      "text/html": [
       "<div><div style = \"float: left;\"><span>3×2 DataFrame</span></div><div style = \"clear: both;\"></div></div><div class = \"data-frame\" style = \"overflow-x: scroll;\"><table class = \"data-frame\" style = \"margin-bottom: 6px;\"><thead><tr class = \"header\"><th class = \"rowNumber\" style = \"font-weight: bold; text-align: right;\">Row</th><th style = \"text-align: left;\">city</th><th style = \"text-align: left;\">population</th></tr><tr class = \"subheader headerLastRow\"><th class = \"rowNumber\" style = \"font-weight: bold; text-align: right;\"></th><th title = \"String\" style = \"text-align: left;\">String</th><th title = \"Int64\" style = \"text-align: left;\">Int64</th></tr></thead><tbody><tr><td class = \"rowNumber\" style = \"font-weight: bold; text-align: right;\">1</td><td style = \"text-align: left;\">Corvallis</td><td style = \"text-align: right;\">57961</td></tr><tr><td class = \"rowNumber\" style = \"font-weight: bold; text-align: right;\">2</td><td style = \"text-align: left;\">Portland</td><td style = \"text-align: right;\">647805</td></tr><tr><td class = \"rowNumber\" style = \"font-weight: bold; text-align: right;\">3</td><td style = \"text-align: left;\">Eugene</td><td style = \"text-align: right;\">168916</td></tr></tbody></table></div>"
      ],
      "text/latex": [
       "\\begin{tabular}{r|cc}\n",
       "\t& city & population\\\\\n",
       "\t\\hline\n",
       "\t& String & Int64\\\\\n",
       "\t\\hline\n",
       "\t1 & Corvallis & 57961 \\\\\n",
       "\t2 & Portland & 647805 \\\\\n",
       "\t3 & Eugene & 168916 \\\\\n",
       "\\end{tabular}\n"
      ],
      "text/plain": [
       "\u001b[1m3×2 DataFrame\u001b[0m\n",
       "\u001b[1m Row \u001b[0m│\u001b[1m city      \u001b[0m\u001b[1m population \u001b[0m\n",
       "     │\u001b[90m String    \u001b[0m\u001b[90m Int64      \u001b[0m\n",
       "─────┼───────────────────────\n",
       "   1 │ Corvallis       57961\n",
       "   2 │ Portland       647805\n",
       "   3 │ Eugene         168916"
      ]
     },
     "execution_count": 12,
     "metadata": {},
     "output_type": "execute_result"
    }
   ],
   "source": [
    "city = [\"Corvallis\", \"Portland\", \"Eugene\"]\n",
    "population = [57961, 647805, 168916]\n",
    "\n",
    "df_cities = DataFrame(city=city, population=population)"
   ]
  },
  {
   "cell_type": "markdown",
   "id": "5ced80ae",
   "metadata": {},
   "source": [
    "## add rows to the `Data Frame`"
   ]
  },
  {
   "cell_type": "code",
   "execution_count": 13,
   "id": "d6fcf5eb",
   "metadata": {},
   "outputs": [
    {
     "data": {
      "text/html": [
       "<div><div style = \"float: left;\"><span>4×2 DataFrame</span></div><div style = \"clear: both;\"></div></div><div class = \"data-frame\" style = \"overflow-x: scroll;\"><table class = \"data-frame\" style = \"margin-bottom: 6px;\"><thead><tr class = \"header\"><th class = \"rowNumber\" style = \"font-weight: bold; text-align: right;\">Row</th><th style = \"text-align: left;\">city</th><th style = \"text-align: left;\">population</th></tr><tr class = \"subheader headerLastRow\"><th class = \"rowNumber\" style = \"font-weight: bold; text-align: right;\"></th><th title = \"String\" style = \"text-align: left;\">String</th><th title = \"Int64\" style = \"text-align: left;\">Int64</th></tr></thead><tbody><tr><td class = \"rowNumber\" style = \"font-weight: bold; text-align: right;\">1</td><td style = \"text-align: left;\">Corvallis</td><td style = \"text-align: right;\">57961</td></tr><tr><td class = \"rowNumber\" style = \"font-weight: bold; text-align: right;\">2</td><td style = \"text-align: left;\">Portland</td><td style = \"text-align: right;\">647805</td></tr><tr><td class = \"rowNumber\" style = \"font-weight: bold; text-align: right;\">3</td><td style = \"text-align: left;\">Eugene</td><td style = \"text-align: right;\">168916</td></tr><tr><td class = \"rowNumber\" style = \"font-weight: bold; text-align: right;\">4</td><td style = \"text-align: left;\">Bend</td><td style = \"text-align: right;\">94520</td></tr></tbody></table></div>"
      ],
      "text/latex": [
       "\\begin{tabular}{r|cc}\n",
       "\t& city & population\\\\\n",
       "\t\\hline\n",
       "\t& String & Int64\\\\\n",
       "\t\\hline\n",
       "\t1 & Corvallis & 57961 \\\\\n",
       "\t2 & Portland & 647805 \\\\\n",
       "\t3 & Eugene & 168916 \\\\\n",
       "\t4 & Bend & 94520 \\\\\n",
       "\\end{tabular}\n"
      ],
      "text/plain": [
       "\u001b[1m4×2 DataFrame\u001b[0m\n",
       "\u001b[1m Row \u001b[0m│\u001b[1m city      \u001b[0m\u001b[1m population \u001b[0m\n",
       "     │\u001b[90m String    \u001b[0m\u001b[90m Int64      \u001b[0m\n",
       "─────┼───────────────────────\n",
       "   1 │ Corvallis       57961\n",
       "   2 │ Portland       647805\n",
       "   3 │ Eugene         168916\n",
       "   4 │ Bend            94520"
      ]
     },
     "execution_count": 13,
     "metadata": {},
     "output_type": "execute_result"
    }
   ],
   "source": [
    "push!(df_cities, [\"Bend\", 94520]) #If you do not enter the `!` it will raise an error"
   ]
  },
  {
   "cell_type": "markdown",
   "id": "08441562",
   "metadata": {},
   "source": [
    "###  Dictionary style\n",
    "Order is not memorized"
   ]
  },
  {
   "cell_type": "code",
   "execution_count": 14,
   "id": "268b5b92",
   "metadata": {},
   "outputs": [
    {
     "data": {
      "text/html": [
       "<div><div style = \"float: left;\"><span>5×2 DataFrame</span></div><div style = \"clear: both;\"></div></div><div class = \"data-frame\" style = \"overflow-x: scroll;\"><table class = \"data-frame\" style = \"margin-bottom: 6px;\"><thead><tr class = \"header\"><th class = \"rowNumber\" style = \"font-weight: bold; text-align: right;\">Row</th><th style = \"text-align: left;\">city</th><th style = \"text-align: left;\">population</th></tr><tr class = \"subheader headerLastRow\"><th class = \"rowNumber\" style = \"font-weight: bold; text-align: right;\"></th><th title = \"String\" style = \"text-align: left;\">String</th><th title = \"Int64\" style = \"text-align: left;\">Int64</th></tr></thead><tbody><tr><td class = \"rowNumber\" style = \"font-weight: bold; text-align: right;\">1</td><td style = \"text-align: left;\">Corvallis</td><td style = \"text-align: right;\">57961</td></tr><tr><td class = \"rowNumber\" style = \"font-weight: bold; text-align: right;\">2</td><td style = \"text-align: left;\">Portland</td><td style = \"text-align: right;\">647805</td></tr><tr><td class = \"rowNumber\" style = \"font-weight: bold; text-align: right;\">3</td><td style = \"text-align: left;\">Eugene</td><td style = \"text-align: right;\">168916</td></tr><tr><td class = \"rowNumber\" style = \"font-weight: bold; text-align: right;\">4</td><td style = \"text-align: left;\">Bend</td><td style = \"text-align: right;\">94520</td></tr><tr><td class = \"rowNumber\" style = \"font-weight: bold; text-align: right;\">5</td><td style = \"text-align: left;\">Berkeley</td><td style = \"text-align: right;\">122324</td></tr></tbody></table></div>"
      ],
      "text/latex": [
       "\\begin{tabular}{r|cc}\n",
       "\t& city & population\\\\\n",
       "\t\\hline\n",
       "\t& String & Int64\\\\\n",
       "\t\\hline\n",
       "\t1 & Corvallis & 57961 \\\\\n",
       "\t2 & Portland & 647805 \\\\\n",
       "\t3 & Eugene & 168916 \\\\\n",
       "\t4 & Bend & 94520 \\\\\n",
       "\t5 & Berkeley & 122324 \\\\\n",
       "\\end{tabular}\n"
      ],
      "text/plain": [
       "\u001b[1m5×2 DataFrame\u001b[0m\n",
       "\u001b[1m Row \u001b[0m│\u001b[1m city      \u001b[0m\u001b[1m population \u001b[0m\n",
       "     │\u001b[90m String    \u001b[0m\u001b[90m Int64      \u001b[0m\n",
       "─────┼───────────────────────\n",
       "   1 │ Corvallis       57961\n",
       "   2 │ Portland       647805\n",
       "   3 │ Eugene         168916\n",
       "   4 │ Bend            94520\n",
       "   5 │ Berkeley       122324"
      ]
     },
     "execution_count": 14,
     "metadata": {},
     "output_type": "execute_result"
    }
   ],
   "source": [
    "push!(df_cities, Dict(:population => 122324, :city => \"Berkeley\"))\n",
    "df_cities"
   ]
  },
  {
   "cell_type": "markdown",
   "id": "5b035073",
   "metadata": {},
   "source": [
    "## add columns to the `DataFrame`"
   ]
  },
  {
   "cell_type": "code",
   "execution_count": 17,
   "id": "a521196f",
   "metadata": {},
   "outputs": [
    {
     "data": {
      "text/html": [
       "<div><div style = \"float: left;\"><span>5×3 DataFrame</span></div><div style = \"clear: both;\"></div></div><div class = \"data-frame\" style = \"overflow-x: scroll;\"><table class = \"data-frame\" style = \"margin-bottom: 6px;\"><thead><tr class = \"header\"><th class = \"rowNumber\" style = \"font-weight: bold; text-align: right;\">Row</th><th style = \"text-align: left;\">city</th><th style = \"text-align: left;\">population</th><th style = \"text-align: left;\">state</th></tr><tr class = \"subheader headerLastRow\"><th class = \"rowNumber\" style = \"font-weight: bold; text-align: right;\"></th><th title = \"String\" style = \"text-align: left;\">String</th><th title = \"Int64\" style = \"text-align: left;\">Int64</th><th title = \"String\" style = \"text-align: left;\">String</th></tr></thead><tbody><tr><td class = \"rowNumber\" style = \"font-weight: bold; text-align: right;\">1</td><td style = \"text-align: left;\">Corvallis</td><td style = \"text-align: right;\">57961</td><td style = \"text-align: left;\">Oregon</td></tr><tr><td class = \"rowNumber\" style = \"font-weight: bold; text-align: right;\">2</td><td style = \"text-align: left;\">Portland</td><td style = \"text-align: right;\">647805</td><td style = \"text-align: left;\">Oregon</td></tr><tr><td class = \"rowNumber\" style = \"font-weight: bold; text-align: right;\">3</td><td style = \"text-align: left;\">Eugene</td><td style = \"text-align: right;\">168916</td><td style = \"text-align: left;\">Oregon</td></tr><tr><td class = \"rowNumber\" style = \"font-weight: bold; text-align: right;\">4</td><td style = \"text-align: left;\">Bend</td><td style = \"text-align: right;\">94520</td><td style = \"text-align: left;\">Oregon</td></tr><tr><td class = \"rowNumber\" style = \"font-weight: bold; text-align: right;\">5</td><td style = \"text-align: left;\">Berkeley</td><td style = \"text-align: right;\">122324</td><td style = \"text-align: left;\">California</td></tr></tbody></table></div>"
      ],
      "text/latex": [
       "\\begin{tabular}{r|ccc}\n",
       "\t& city & population & state\\\\\n",
       "\t\\hline\n",
       "\t& String & Int64 & String\\\\\n",
       "\t\\hline\n",
       "\t1 & Corvallis & 57961 & Oregon \\\\\n",
       "\t2 & Portland & 647805 & Oregon \\\\\n",
       "\t3 & Eugene & 168916 & Oregon \\\\\n",
       "\t4 & Bend & 94520 & Oregon \\\\\n",
       "\t5 & Berkeley & 122324 & California \\\\\n",
       "\\end{tabular}\n"
      ],
      "text/plain": [
       "\u001b[1m5×3 DataFrame\u001b[0m\n",
       "\u001b[1m Row \u001b[0m│\u001b[1m city      \u001b[0m\u001b[1m population \u001b[0m\u001b[1m state      \u001b[0m\n",
       "     │\u001b[90m String    \u001b[0m\u001b[90m Int64      \u001b[0m\u001b[90m String     \u001b[0m\n",
       "─────┼───────────────────────────────────\n",
       "   1 │ Corvallis       57961  Oregon\n",
       "   2 │ Portland       647805  Oregon\n",
       "   3 │ Eugene         168916  Oregon\n",
       "   4 │ Bend            94520  Oregon\n",
       "   5 │ Berkeley       122324  California"
      ]
     },
     "execution_count": 17,
     "metadata": {},
     "output_type": "execute_result"
    }
   ],
   "source": [
    "# one way, inserts new column as the last column\n",
    "df_cities[!, :state] = vcat([\"Oregon\" for i = 1:4], [\"California\"])\n",
    "df_cities"
   ]
  },
  {
   "cell_type": "code",
   "execution_count": 21,
   "id": "b1450cfd",
   "metadata": {},
   "outputs": [
    {
     "data": {
      "text/html": [
       "<div><div style = \"float: left;\"><span>5×4 DataFrame</span></div><div style = \"clear: both;\"></div></div><div class = \"data-frame\" style = \"overflow-x: scroll;\"><table class = \"data-frame\" style = \"margin-bottom: 6px;\"><thead><tr class = \"header\"><th class = \"rowNumber\" style = \"font-weight: bold; text-align: right;\">Row</th><th style = \"text-align: left;\">city</th><th style = \"text-align: left;\">rainfall</th><th style = \"text-align: left;\">population</th><th style = \"text-align: left;\">state</th></tr><tr class = \"subheader headerLastRow\"><th class = \"rowNumber\" style = \"font-weight: bold; text-align: right;\"></th><th title = \"String\" style = \"text-align: left;\">String</th><th title = \"Float64\" style = \"text-align: left;\">Float64</th><th title = \"Int64\" style = \"text-align: left;\">Int64</th><th title = \"String\" style = \"text-align: left;\">String</th></tr></thead><tbody><tr><td class = \"rowNumber\" style = \"font-weight: bold; text-align: right;\">1</td><td style = \"text-align: left;\">Corvallis</td><td style = \"text-align: right;\">51.0</td><td style = \"text-align: right;\">57961</td><td style = \"text-align: left;\">Oregon</td></tr><tr><td class = \"rowNumber\" style = \"font-weight: bold; text-align: right;\">2</td><td style = \"text-align: left;\">Portland</td><td style = \"text-align: right;\">43.0</td><td style = \"text-align: right;\">647805</td><td style = \"text-align: left;\">Oregon</td></tr><tr><td class = \"rowNumber\" style = \"font-weight: bold; text-align: right;\">3</td><td style = \"text-align: left;\">Eugene</td><td style = \"text-align: right;\">47.0</td><td style = \"text-align: right;\">168916</td><td style = \"text-align: left;\">Oregon</td></tr><tr><td class = \"rowNumber\" style = \"font-weight: bold; text-align: right;\">4</td><td style = \"text-align: left;\">Bend</td><td style = \"text-align: right;\">12.0</td><td style = \"text-align: right;\">94520</td><td style = \"text-align: left;\">Oregon</td></tr><tr><td class = \"rowNumber\" style = \"font-weight: bold; text-align: right;\">5</td><td style = \"text-align: left;\">Berkeley</td><td style = \"text-align: right;\">25.0</td><td style = \"text-align: right;\">122324</td><td style = \"text-align: left;\">California</td></tr></tbody></table></div>"
      ],
      "text/latex": [
       "\\begin{tabular}{r|cccc}\n",
       "\t& city & rainfall & population & state\\\\\n",
       "\t\\hline\n",
       "\t& String & Float64 & Int64 & String\\\\\n",
       "\t\\hline\n",
       "\t1 & Corvallis & 51.0 & 57961 & Oregon \\\\\n",
       "\t2 & Portland & 43.0 & 647805 & Oregon \\\\\n",
       "\t3 & Eugene & 47.0 & 168916 & Oregon \\\\\n",
       "\t4 & Bend & 12.0 & 94520 & Oregon \\\\\n",
       "\t5 & Berkeley & 25.0 & 122324 & California \\\\\n",
       "\\end{tabular}\n"
      ],
      "text/plain": [
       "\u001b[1m5×4 DataFrame\u001b[0m\n",
       "\u001b[1m Row \u001b[0m│\u001b[1m city      \u001b[0m\u001b[1m rainfall \u001b[0m\u001b[1m population \u001b[0m\u001b[1m state      \u001b[0m\n",
       "     │\u001b[90m String    \u001b[0m\u001b[90m Float64  \u001b[0m\u001b[90m Int64      \u001b[0m\u001b[90m String     \u001b[0m\n",
       "─────┼─────────────────────────────────────────────\n",
       "   1 │ Corvallis      51.0       57961  Oregon\n",
       "   2 │ Portland       43.0      647805  Oregon\n",
       "   3 │ Eugene         47.0      168916  Oregon\n",
       "   4 │ Bend           12.0       94520  Oregon\n",
       "   5 │ Berkeley       25.0      122324  California"
      ]
     },
     "execution_count": 21,
     "metadata": {},
     "output_type": "execute_result"
    }
   ],
   "source": [
    "# another way, allows you to insert a column at specified location (e.g., 2)\n",
    "insertcols!(df_cities, 2, :rainfall=>[51.0, 43.0, 47.0, 12.0, 25.0])\n",
    "df_cities"
   ]
  },
  {
   "cell_type": "markdown",
   "id": "be674a3b",
   "metadata": {},
   "source": [
    "### how many (rows,columns)?"
   ]
  },
  {
   "cell_type": "code",
   "execution_count": 22,
   "id": "3fce5ecd",
   "metadata": {},
   "outputs": [
    {
     "data": {
      "text/plain": [
       "(5, 4)"
      ]
     },
     "execution_count": 22,
     "metadata": {},
     "output_type": "execute_result"
    }
   ],
   "source": [
    "size(df_cities) # size(df_cities)[1] = # rows, size(df_cities)[2] = # cols"
   ]
  },
  {
   "cell_type": "markdown",
   "id": "723e9714",
   "metadata": {},
   "source": [
    "### What are the column names? \n",
    "note that the column names are always symbols! if you have a fancy String you want to convert into a Symbol, simply e.g. Symbol(\"avg salary (USD)\") will convert the String \"avg salary (USD)\" to a Symbol."
   ]
  },
  {
   "cell_type": "code",
   "execution_count": 23,
   "id": "04f291cc",
   "metadata": {},
   "outputs": [
    {
     "data": {
      "text/plain": [
       "4-element Vector{String}:\n",
       " \"city\"\n",
       " \"rainfall\"\n",
       " \"population\"\n",
       " \"state\""
      ]
     },
     "execution_count": 23,
     "metadata": {},
     "output_type": "execute_result"
    }
   ],
   "source": [
    "names(df_cities)"
   ]
  },
  {
   "cell_type": "code",
   "execution_count": 27,
   "id": "b602b93a",
   "metadata": {},
   "outputs": [
    {
     "name": "stdout",
     "output_type": "stream",
     "text": [
      "population of Corvallis, Oregon is 57961\n",
      "population of Portland, Oregon is 647805\n",
      "population of Eugene, Oregon is 168916\n",
      "population of Bend, Oregon is 94520\n",
      "population of Berkeley, California is 122324\n"
     ]
    }
   ],
   "source": [
    "for row in eachrow(df_cities)\n",
    "    @printf(\"population of %s, %s is %d\\n\", row[:city], row[:state], row[:population])\n",
    "end"
   ]
  },
  {
   "cell_type": "markdown",
   "id": "c68eca8a",
   "metadata": {},
   "source": [
    "## Retreive a column\n",
    "The columns are arrays!"
   ]
  },
  {
   "cell_type": "code",
   "execution_count": 32,
   "id": "71108f37",
   "metadata": {},
   "outputs": [
    {
     "data": {
      "text/plain": [
       "5-element Vector{Int64}:\n",
       "  57961\n",
       " 647805\n",
       " 168916\n",
       "  94520\n",
       " 122324"
      ]
     },
     "execution_count": 32,
     "metadata": {},
     "output_type": "execute_result"
    }
   ],
   "source": [
    "# (1) treating the DataFrame like a multi-dimensional array\n",
    "df_cities[:, :population] # : or ! means all the rows"
   ]
  },
  {
   "cell_type": "code",
   "execution_count": 29,
   "id": "8853a8ad",
   "metadata": {},
   "outputs": [
    {
     "data": {
      "text/plain": [
       "5-element Vector{Int64}:\n",
       "  57961\n",
       " 647805\n",
       " 168916\n",
       "  94520\n",
       " 122324"
      ]
     },
     "execution_count": 29,
     "metadata": {},
     "output_type": "execute_result"
    }
   ],
   "source": [
    "# (2) treating the DataFrame like a `Struct`\n",
    "df_cities.population"
   ]
  },
  {
   "cell_type": "markdown",
   "id": "d7d559a3",
   "metadata": {},
   "source": [
    "## Retrieve a row"
   ]
  },
  {
   "cell_type": "code",
   "execution_count": 34,
   "id": "b71d592e",
   "metadata": {},
   "outputs": [
    {
     "data": {
      "text/html": [
       "<div><div style = \"float: left;\"><span>DataFrameRow (4 columns)</span></div><div style = \"clear: both;\"></div></div><div class = \"data-frame\" style = \"overflow-x: scroll;\"><table class = \"data-frame\" style = \"margin-bottom: 6px;\"><thead><tr class = \"header\"><th class = \"rowLabel\" style = \"font-weight: bold; text-align: right;\">Row</th><th style = \"text-align: left;\">city</th><th style = \"text-align: left;\">rainfall</th><th style = \"text-align: left;\">population</th><th style = \"text-align: left;\">state</th></tr><tr class = \"subheader headerLastRow\"><th class = \"rowLabel\" style = \"font-weight: bold; text-align: right;\"></th><th title = \"String\" style = \"text-align: left;\">String</th><th title = \"Float64\" style = \"text-align: left;\">Float64</th><th title = \"Int64\" style = \"text-align: left;\">Int64</th><th title = \"String\" style = \"text-align: left;\">String</th></tr></thead><tbody><tr><td class = \"rowLabel\" style = \"font-weight: bold; text-align: right;\">2</td><td style = \"text-align: left;\">Portland</td><td style = \"text-align: right;\">43.0</td><td style = \"text-align: right;\">647805</td><td style = \"text-align: left;\">Oregon</td></tr></tbody></table></div>"
      ],
      "text/latex": [
       "\\begin{tabular}{r|cccc}\n",
       "\t& city & rainfall & population & state\\\\\n",
       "\t\\hline\n",
       "\t& String & Float64 & Int64 & String\\\\\n",
       "\t\\hline\n",
       "\t2 & Portland & 43.0 & 647805 & Oregon \\\\\n",
       "\\end{tabular}\n"
      ],
      "text/plain": [
       "\u001b[1mDataFrameRow\u001b[0m\n",
       "\u001b[1m Row \u001b[0m│\u001b[1m city     \u001b[0m\u001b[1m rainfall \u001b[0m\u001b[1m population \u001b[0m\u001b[1m state  \u001b[0m\n",
       "     │\u001b[90m String   \u001b[0m\u001b[90m Float64  \u001b[0m\u001b[90m Int64      \u001b[0m\u001b[90m String \u001b[0m\n",
       "─────┼────────────────────────────────────────\n",
       "   2 │ Portland      43.0      647805  Oregon"
      ]
     },
     "execution_count": 34,
     "metadata": {},
     "output_type": "execute_result"
    }
   ],
   "source": [
    "df_cities[2,:] # Pull all columns from the second row"
   ]
  },
  {
   "cell_type": "markdown",
   "id": "2eeb4681",
   "metadata": {},
   "source": [
    "## Retrieve an entry"
   ]
  },
  {
   "cell_type": "code",
   "execution_count": 35,
   "id": "937d249b",
   "metadata": {},
   "outputs": [
    {
     "data": {
      "text/plain": [
       "647805"
      ]
     },
     "execution_count": 35,
     "metadata": {},
     "output_type": "execute_result"
    }
   ],
   "source": [
    "df_cities[2, :population] # population of Portland"
   ]
  },
  {
   "cell_type": "markdown",
   "id": "b3a761a4",
   "metadata": {},
   "source": [
    "## Retrieve a combination of rows/columns\n",
    "\n",
    "like an array we can retreive, the first 3 rows and only the `population` and `city` columns"
   ]
  },
  {
   "cell_type": "code",
   "execution_count": 36,
   "id": "c9892b26",
   "metadata": {},
   "outputs": [
    {
     "data": {
      "text/html": [
       "<div><div style = \"float: left;\"><span>3×2 DataFrame</span></div><div style = \"clear: both;\"></div></div><div class = \"data-frame\" style = \"overflow-x: scroll;\"><table class = \"data-frame\" style = \"margin-bottom: 6px;\"><thead><tr class = \"header\"><th class = \"rowNumber\" style = \"font-weight: bold; text-align: right;\">Row</th><th style = \"text-align: left;\">population</th><th style = \"text-align: left;\">city</th></tr><tr class = \"subheader headerLastRow\"><th class = \"rowNumber\" style = \"font-weight: bold; text-align: right;\"></th><th title = \"Int64\" style = \"text-align: left;\">Int64</th><th title = \"String\" style = \"text-align: left;\">String</th></tr></thead><tbody><tr><td class = \"rowNumber\" style = \"font-weight: bold; text-align: right;\">1</td><td style = \"text-align: right;\">57961</td><td style = \"text-align: left;\">Corvallis</td></tr><tr><td class = \"rowNumber\" style = \"font-weight: bold; text-align: right;\">2</td><td style = \"text-align: right;\">647805</td><td style = \"text-align: left;\">Portland</td></tr><tr><td class = \"rowNumber\" style = \"font-weight: bold; text-align: right;\">3</td><td style = \"text-align: right;\">168916</td><td style = \"text-align: left;\">Eugene</td></tr></tbody></table></div>"
      ],
      "text/latex": [
       "\\begin{tabular}{r|cc}\n",
       "\t& population & city\\\\\n",
       "\t\\hline\n",
       "\t& Int64 & String\\\\\n",
       "\t\\hline\n",
       "\t1 & 57961 & Corvallis \\\\\n",
       "\t2 & 647805 & Portland \\\\\n",
       "\t3 & 168916 & Eugene \\\\\n",
       "\\end{tabular}\n"
      ],
      "text/plain": [
       "\u001b[1m3×2 DataFrame\u001b[0m\n",
       "\u001b[1m Row \u001b[0m│\u001b[1m population \u001b[0m\u001b[1m city      \u001b[0m\n",
       "     │\u001b[90m Int64      \u001b[0m\u001b[90m String    \u001b[0m\n",
       "─────┼───────────────────────\n",
       "   1 │      57961  Corvallis\n",
       "   2 │     647805  Portland\n",
       "   3 │     168916  Eugene"
      ]
     },
     "execution_count": 36,
     "metadata": {},
     "output_type": "execute_result"
    }
   ],
   "source": [
    "df_cities[1:3, [:population, :city]]"
   ]
  },
  {
   "cell_type": "code",
   "execution_count": 37,
   "id": "82d5bed8",
   "metadata": {},
   "outputs": [
    {
     "data": {
      "text/html": [
       "<div><div style = \"float: left;\"><span>5×4 DataFrame</span></div><div style = \"clear: both;\"></div></div><div class = \"data-frame\" style = \"overflow-x: scroll;\"><table class = \"data-frame\" style = \"margin-bottom: 6px;\"><thead><tr class = \"header\"><th class = \"rowNumber\" style = \"font-weight: bold; text-align: right;\">Row</th><th style = \"text-align: left;\">city</th><th style = \"text-align: left;\">rainfall</th><th style = \"text-align: left;\">population</th><th style = \"text-align: left;\">state</th></tr><tr class = \"subheader headerLastRow\"><th class = \"rowNumber\" style = \"font-weight: bold; text-align: right;\"></th><th title = \"String\" style = \"text-align: left;\">String</th><th title = \"Float64\" style = \"text-align: left;\">Float64</th><th title = \"Int64\" style = \"text-align: left;\">Int64</th><th title = \"String\" style = \"text-align: left;\">String</th></tr></thead><tbody><tr><td class = \"rowNumber\" style = \"font-weight: bold; text-align: right;\">1</td><td style = \"text-align: left;\">Corvallis</td><td style = \"text-align: right;\">51.0</td><td style = \"text-align: right;\">57961</td><td style = \"text-align: left;\">Oregon</td></tr><tr><td class = \"rowNumber\" style = \"font-weight: bold; text-align: right;\">2</td><td style = \"text-align: left;\">Portland</td><td style = \"text-align: right;\">43.0</td><td style = \"text-align: right;\">647805</td><td style = \"text-align: left;\">Oregon</td></tr><tr><td class = \"rowNumber\" style = \"font-weight: bold; text-align: right;\">3</td><td style = \"text-align: left;\">Eugene</td><td style = \"text-align: right;\">47.0</td><td style = \"text-align: right;\">168916</td><td style = \"text-align: left;\">Oregon</td></tr><tr><td class = \"rowNumber\" style = \"font-weight: bold; text-align: right;\">4</td><td style = \"text-align: left;\">Bend</td><td style = \"text-align: right;\">12.0</td><td style = \"text-align: right;\">94520</td><td style = \"text-align: left;\">Oregon</td></tr><tr><td class = \"rowNumber\" style = \"font-weight: bold; text-align: right;\">5</td><td style = \"text-align: left;\">Berkeley</td><td style = \"text-align: right;\">25.0</td><td style = \"text-align: right;\">122324</td><td style = \"text-align: left;\">California</td></tr></tbody></table></div>"
      ],
      "text/latex": [
       "\\begin{tabular}{r|cccc}\n",
       "\t& city & rainfall & population & state\\\\\n",
       "\t\\hline\n",
       "\t& String & Float64 & Int64 & String\\\\\n",
       "\t\\hline\n",
       "\t1 & Corvallis & 51.0 & 57961 & Oregon \\\\\n",
       "\t2 & Portland & 43.0 & 647805 & Oregon \\\\\n",
       "\t3 & Eugene & 47.0 & 168916 & Oregon \\\\\n",
       "\t4 & Bend & 12.0 & 94520 & Oregon \\\\\n",
       "\t5 & Berkeley & 25.0 & 122324 & California \\\\\n",
       "\\end{tabular}\n"
      ],
      "text/plain": [
       "\u001b[1m5×4 DataFrame\u001b[0m\n",
       "\u001b[1m Row \u001b[0m│\u001b[1m city      \u001b[0m\u001b[1m rainfall \u001b[0m\u001b[1m population \u001b[0m\u001b[1m state      \u001b[0m\n",
       "     │\u001b[90m String    \u001b[0m\u001b[90m Float64  \u001b[0m\u001b[90m Int64      \u001b[0m\u001b[90m String     \u001b[0m\n",
       "─────┼─────────────────────────────────────────────\n",
       "   1 │ Corvallis      51.0       57961  Oregon\n",
       "   2 │ Portland       43.0      647805  Oregon\n",
       "   3 │ Eugene         47.0      168916  Oregon\n",
       "   4 │ Bend           12.0       94520  Oregon\n",
       "   5 │ Berkeley       25.0      122324  California"
      ]
     },
     "execution_count": 37,
     "metadata": {},
     "output_type": "execute_result"
    }
   ],
   "source": [
    "df_cities"
   ]
  },
  {
   "cell_type": "markdown",
   "id": "095c6d9b",
   "metadata": {},
   "source": [
    "## Querying a dataframe\n",
    "Using the filter funtion:\n",
    "* the first argument is a function that operates on a row of the DataFrame (treating the row as a Dict) and returns true if we want to keep that row and false if we want to throw it away\n",
    "* the second argument is the dataframe\n",
    "* there is also a filter! function that will remove these rows from the dataframe instead of returning a copy with the relevant rows removed"
   ]
  },
  {
   "cell_type": "code",
   "execution_count": 38,
   "id": "2c23d464",
   "metadata": {},
   "outputs": [
    {
     "data": {
      "text/html": [
       "<div><div style = \"float: left;\"><span>1×4 DataFrame</span></div><div style = \"clear: both;\"></div></div><div class = \"data-frame\" style = \"overflow-x: scroll;\"><table class = \"data-frame\" style = \"margin-bottom: 6px;\"><thead><tr class = \"header\"><th class = \"rowNumber\" style = \"font-weight: bold; text-align: right;\">Row</th><th style = \"text-align: left;\">city</th><th style = \"text-align: left;\">rainfall</th><th style = \"text-align: left;\">population</th><th style = \"text-align: left;\">state</th></tr><tr class = \"subheader headerLastRow\"><th class = \"rowNumber\" style = \"font-weight: bold; text-align: right;\"></th><th title = \"String\" style = \"text-align: left;\">String</th><th title = \"Float64\" style = \"text-align: left;\">Float64</th><th title = \"Int64\" style = \"text-align: left;\">Int64</th><th title = \"String\" style = \"text-align: left;\">String</th></tr></thead><tbody><tr><td class = \"rowNumber\" style = \"font-weight: bold; text-align: right;\">1</td><td style = \"text-align: left;\">Corvallis</td><td style = \"text-align: right;\">51.0</td><td style = \"text-align: right;\">57961</td><td style = \"text-align: left;\">Oregon</td></tr></tbody></table></div>"
      ],
      "text/latex": [
       "\\begin{tabular}{r|cccc}\n",
       "\t& city & rainfall & population & state\\\\\n",
       "\t\\hline\n",
       "\t& String & Float64 & Int64 & String\\\\\n",
       "\t\\hline\n",
       "\t1 & Corvallis & 51.0 & 57961 & Oregon \\\\\n",
       "\\end{tabular}\n"
      ],
      "text/plain": [
       "\u001b[1m1×4 DataFrame\u001b[0m\n",
       "\u001b[1m Row \u001b[0m│\u001b[1m city      \u001b[0m\u001b[1m rainfall \u001b[0m\u001b[1m population \u001b[0m\u001b[1m state  \u001b[0m\n",
       "     │\u001b[90m String    \u001b[0m\u001b[90m Float64  \u001b[0m\u001b[90m Int64      \u001b[0m\u001b[90m String \u001b[0m\n",
       "─────┼─────────────────────────────────────────\n",
       "   1 │ Corvallis      51.0       57961  Oregon"
      ]
     },
     "execution_count": 38,
     "metadata": {},
     "output_type": "execute_result"
    }
   ],
   "source": [
    "filter(row -> row[:city] == \"Corvallis\", df_cities)"
   ]
  },
  {
   "cell_type": "code",
   "execution_count": 43,
   "id": "ff73c076",
   "metadata": {},
   "outputs": [
    {
     "data": {
      "text/html": [
       "<div><div style = \"float: left;\"><span>4×4 DataFrame</span></div><div style = \"clear: both;\"></div></div><div class = \"data-frame\" style = \"overflow-x: scroll;\"><table class = \"data-frame\" style = \"margin-bottom: 6px;\"><thead><tr class = \"header\"><th class = \"rowNumber\" style = \"font-weight: bold; text-align: right;\">Row</th><th style = \"text-align: left;\">city</th><th style = \"text-align: left;\">rainfall</th><th style = \"text-align: left;\">population</th><th style = \"text-align: left;\">state</th></tr><tr class = \"subheader headerLastRow\"><th class = \"rowNumber\" style = \"font-weight: bold; text-align: right;\"></th><th title = \"String\" style = \"text-align: left;\">String</th><th title = \"Float64\" style = \"text-align: left;\">Float64</th><th title = \"Int64\" style = \"text-align: left;\">Int64</th><th title = \"String\" style = \"text-align: left;\">String</th></tr></thead><tbody><tr><td class = \"rowNumber\" style = \"font-weight: bold; text-align: right;\">1</td><td style = \"text-align: left;\">Corvallis</td><td style = \"text-align: right;\">51.0</td><td style = \"text-align: right;\">57961</td><td style = \"text-align: left;\">Oregon</td></tr><tr><td class = \"rowNumber\" style = \"font-weight: bold; text-align: right;\">2</td><td style = \"text-align: left;\">Eugene</td><td style = \"text-align: right;\">47.0</td><td style = \"text-align: right;\">168916</td><td style = \"text-align: left;\">Oregon</td></tr><tr><td class = \"rowNumber\" style = \"font-weight: bold; text-align: right;\">3</td><td style = \"text-align: left;\">Bend</td><td style = \"text-align: right;\">12.0</td><td style = \"text-align: right;\">94520</td><td style = \"text-align: left;\">Oregon</td></tr><tr><td class = \"rowNumber\" style = \"font-weight: bold; text-align: right;\">4</td><td style = \"text-align: left;\">Berkeley</td><td style = \"text-align: right;\">25.0</td><td style = \"text-align: right;\">122324</td><td style = \"text-align: left;\">California</td></tr></tbody></table></div>"
      ],
      "text/latex": [
       "\\begin{tabular}{r|cccc}\n",
       "\t& city & rainfall & population & state\\\\\n",
       "\t\\hline\n",
       "\t& String & Float64 & Int64 & String\\\\\n",
       "\t\\hline\n",
       "\t1 & Corvallis & 51.0 & 57961 & Oregon \\\\\n",
       "\t2 & Eugene & 47.0 & 168916 & Oregon \\\\\n",
       "\t3 & Bend & 12.0 & 94520 & Oregon \\\\\n",
       "\t4 & Berkeley & 25.0 & 122324 & California \\\\\n",
       "\\end{tabular}\n"
      ],
      "text/plain": [
       "\u001b[1m4×4 DataFrame\u001b[0m\n",
       "\u001b[1m Row \u001b[0m│\u001b[1m city      \u001b[0m\u001b[1m rainfall \u001b[0m\u001b[1m population \u001b[0m\u001b[1m state      \u001b[0m\n",
       "     │\u001b[90m String    \u001b[0m\u001b[90m Float64  \u001b[0m\u001b[90m Int64      \u001b[0m\u001b[90m String     \u001b[0m\n",
       "─────┼─────────────────────────────────────────────\n",
       "   1 │ Corvallis      51.0       57961  Oregon\n",
       "   2 │ Eugene         47.0      168916  Oregon\n",
       "   3 │ Bend           12.0       94520  Oregon\n",
       "   4 │ Berkeley       25.0      122324  California"
      ]
     },
     "execution_count": 43,
     "metadata": {},
     "output_type": "execute_result"
    }
   ],
   "source": [
    "df_cities[df_cities[:, :population] .< 500000, :] # all the rows where the population is less than 500,000"
   ]
  },
  {
   "cell_type": "code",
   "execution_count": 44,
   "id": "99e76cf6",
   "metadata": {},
   "outputs": [
    {
     "data": {
      "text/html": [
       "<div><div style = \"float: left;\"><span>4×4 DataFrame</span></div><div style = \"clear: both;\"></div></div><div class = \"data-frame\" style = \"overflow-x: scroll;\"><table class = \"data-frame\" style = \"margin-bottom: 6px;\"><thead><tr class = \"header\"><th class = \"rowNumber\" style = \"font-weight: bold; text-align: right;\">Row</th><th style = \"text-align: left;\">city</th><th style = \"text-align: left;\">rainfall</th><th style = \"text-align: left;\">population</th><th style = \"text-align: left;\">state</th></tr><tr class = \"subheader headerLastRow\"><th class = \"rowNumber\" style = \"font-weight: bold; text-align: right;\"></th><th title = \"String\" style = \"text-align: left;\">String</th><th title = \"Float64\" style = \"text-align: left;\">Float64</th><th title = \"Int64\" style = \"text-align: left;\">Int64</th><th title = \"String\" style = \"text-align: left;\">String</th></tr></thead><tbody><tr><td class = \"rowNumber\" style = \"font-weight: bold; text-align: right;\">1</td><td style = \"text-align: left;\">Corvallis</td><td style = \"text-align: right;\">51.0</td><td style = \"text-align: right;\">57961</td><td style = \"text-align: left;\">Oregon</td></tr><tr><td class = \"rowNumber\" style = \"font-weight: bold; text-align: right;\">2</td><td style = \"text-align: left;\">Portland</td><td style = \"text-align: right;\">43.0</td><td style = \"text-align: right;\">647805</td><td style = \"text-align: left;\">Oregon</td></tr><tr><td class = \"rowNumber\" style = \"font-weight: bold; text-align: right;\">3</td><td style = \"text-align: left;\">Eugene</td><td style = \"text-align: right;\">47.0</td><td style = \"text-align: right;\">168916</td><td style = \"text-align: left;\">Oregon</td></tr><tr><td class = \"rowNumber\" style = \"font-weight: bold; text-align: right;\">4</td><td style = \"text-align: left;\">Bend</td><td style = \"text-align: right;\">12.0</td><td style = \"text-align: right;\">94520</td><td style = \"text-align: left;\">Oregon</td></tr></tbody></table></div>"
      ],
      "text/latex": [
       "\\begin{tabular}{r|cccc}\n",
       "\t& city & rainfall & population & state\\\\\n",
       "\t\\hline\n",
       "\t& String & Float64 & Int64 & String\\\\\n",
       "\t\\hline\n",
       "\t1 & Corvallis & 51.0 & 57961 & Oregon \\\\\n",
       "\t2 & Portland & 43.0 & 647805 & Oregon \\\\\n",
       "\t3 & Eugene & 47.0 & 168916 & Oregon \\\\\n",
       "\t4 & Bend & 12.0 & 94520 & Oregon \\\\\n",
       "\\end{tabular}\n"
      ],
      "text/plain": [
       "\u001b[1m4×4 DataFrame\u001b[0m\n",
       "\u001b[1m Row \u001b[0m│\u001b[1m city      \u001b[0m\u001b[1m rainfall \u001b[0m\u001b[1m population \u001b[0m\u001b[1m state  \u001b[0m\n",
       "     │\u001b[90m String    \u001b[0m\u001b[90m Float64  \u001b[0m\u001b[90m Int64      \u001b[0m\u001b[90m String \u001b[0m\n",
       "─────┼─────────────────────────────────────────\n",
       "   1 │ Corvallis      51.0       57961  Oregon\n",
       "   2 │ Portland       43.0      647805  Oregon\n",
       "   3 │ Eugene         47.0      168916  Oregon\n",
       "   4 │ Bend           12.0       94520  Oregon"
      ]
     },
     "execution_count": 44,
     "metadata": {},
     "output_type": "execute_result"
    }
   ],
   "source": [
    "filter(row -> row[:state] == \"Oregon\", df_cities) # all the rows where cities are in the state of Oregon"
   ]
  },
  {
   "cell_type": "markdown",
   "id": "0a9a2ddd",
   "metadata": {},
   "source": [
    "## Sorting a dataframe\n",
    "e.g. permute rows so that cities are listed by :population in reverse (rev) order"
   ]
  },
  {
   "cell_type": "code",
   "execution_count": 45,
   "id": "e654aacf",
   "metadata": {},
   "outputs": [
    {
     "data": {
      "text/html": [
       "<div><div style = \"float: left;\"><span>5×4 DataFrame</span></div><div style = \"clear: both;\"></div></div><div class = \"data-frame\" style = \"overflow-x: scroll;\"><table class = \"data-frame\" style = \"margin-bottom: 6px;\"><thead><tr class = \"header\"><th class = \"rowNumber\" style = \"font-weight: bold; text-align: right;\">Row</th><th style = \"text-align: left;\">city</th><th style = \"text-align: left;\">rainfall</th><th style = \"text-align: left;\">population</th><th style = \"text-align: left;\">state</th></tr><tr class = \"subheader headerLastRow\"><th class = \"rowNumber\" style = \"font-weight: bold; text-align: right;\"></th><th title = \"String\" style = \"text-align: left;\">String</th><th title = \"Float64\" style = \"text-align: left;\">Float64</th><th title = \"Int64\" style = \"text-align: left;\">Int64</th><th title = \"String\" style = \"text-align: left;\">String</th></tr></thead><tbody><tr><td class = \"rowNumber\" style = \"font-weight: bold; text-align: right;\">1</td><td style = \"text-align: left;\">Portland</td><td style = \"text-align: right;\">43.0</td><td style = \"text-align: right;\">647805</td><td style = \"text-align: left;\">Oregon</td></tr><tr><td class = \"rowNumber\" style = \"font-weight: bold; text-align: right;\">2</td><td style = \"text-align: left;\">Eugene</td><td style = \"text-align: right;\">47.0</td><td style = \"text-align: right;\">168916</td><td style = \"text-align: left;\">Oregon</td></tr><tr><td class = \"rowNumber\" style = \"font-weight: bold; text-align: right;\">3</td><td style = \"text-align: left;\">Berkeley</td><td style = \"text-align: right;\">25.0</td><td style = \"text-align: right;\">122324</td><td style = \"text-align: left;\">California</td></tr><tr><td class = \"rowNumber\" style = \"font-weight: bold; text-align: right;\">4</td><td style = \"text-align: left;\">Bend</td><td style = \"text-align: right;\">12.0</td><td style = \"text-align: right;\">94520</td><td style = \"text-align: left;\">Oregon</td></tr><tr><td class = \"rowNumber\" style = \"font-weight: bold; text-align: right;\">5</td><td style = \"text-align: left;\">Corvallis</td><td style = \"text-align: right;\">51.0</td><td style = \"text-align: right;\">57961</td><td style = \"text-align: left;\">Oregon</td></tr></tbody></table></div>"
      ],
      "text/latex": [
       "\\begin{tabular}{r|cccc}\n",
       "\t& city & rainfall & population & state\\\\\n",
       "\t\\hline\n",
       "\t& String & Float64 & Int64 & String\\\\\n",
       "\t\\hline\n",
       "\t1 & Portland & 43.0 & 647805 & Oregon \\\\\n",
       "\t2 & Eugene & 47.0 & 168916 & Oregon \\\\\n",
       "\t3 & Berkeley & 25.0 & 122324 & California \\\\\n",
       "\t4 & Bend & 12.0 & 94520 & Oregon \\\\\n",
       "\t5 & Corvallis & 51.0 & 57961 & Oregon \\\\\n",
       "\\end{tabular}\n"
      ],
      "text/plain": [
       "\u001b[1m5×4 DataFrame\u001b[0m\n",
       "\u001b[1m Row \u001b[0m│\u001b[1m city      \u001b[0m\u001b[1m rainfall \u001b[0m\u001b[1m population \u001b[0m\u001b[1m state      \u001b[0m\n",
       "     │\u001b[90m String    \u001b[0m\u001b[90m Float64  \u001b[0m\u001b[90m Int64      \u001b[0m\u001b[90m String     \u001b[0m\n",
       "─────┼─────────────────────────────────────────────\n",
       "   1 │ Portland       43.0      647805  Oregon\n",
       "   2 │ Eugene         47.0      168916  Oregon\n",
       "   3 │ Berkeley       25.0      122324  California\n",
       "   4 │ Bend           12.0       94520  Oregon\n",
       "   5 │ Corvallis      51.0       57961  Oregon"
      ]
     },
     "execution_count": 45,
     "metadata": {},
     "output_type": "execute_result"
    }
   ],
   "source": [
    "sort!(df_cities, :population, rev=true) # ! means the input dataframe was modified. now the rows are re-ordered"
   ]
  }
 ],
 "metadata": {
  "kernelspec": {
   "display_name": "Julia 1.11.5",
   "language": "julia",
   "name": "julia-1.11"
  },
  "language_info": {
   "file_extension": ".jl",
   "mimetype": "application/julia",
   "name": "julia",
   "version": "1.11.5"
  }
 },
 "nbformat": 4,
 "nbformat_minor": 5
}
