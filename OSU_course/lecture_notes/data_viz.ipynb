{
 "cells": [
  {
   "cell_type": "markdown",
   "id": "bd199f74",
   "metadata": {},
   "source": [
    "# Data Visualization\n",
    "\n",
    "we will use matplotlib, an open-source data visualization library written for Python (but we call it from Julia using PyPlot)."
   ]
  },
  {
   "cell_type": "code",
   "execution_count": 1,
   "id": "4cf1cc56",
   "metadata": {},
   "outputs": [
    {
     "data": {
      "text/plain": [
       "16"
      ]
     },
     "execution_count": 1,
     "metadata": {},
     "output_type": "execute_result"
    }
   ],
   "source": [
    "using DataFrames\n",
    "using CSV\n",
    "using PyPlot # plotting library\n",
    "\n",
    "# check out all of the styles! https://matplotlib.org/3.1.1/gallery/style_sheets/style_sheets_reference.html\n",
    "PyPlot.matplotlib.style.use(\"seaborn-pastel\")\n",
    "\n",
    "# change settings for all plots at once, e.g. font size\n",
    "rcParams = PyPlot.PyDict(PyPlot.matplotlib.\"rcParams\")\n",
    "rcParams[\"font.size\"] = 16"
   ]
  },
  {
   "cell_type": "markdown",
   "id": "4c169494",
   "metadata": {},
   "source": [
    "## Bar plots: Steak Preferences\n",
    "\n",
    "*goal*: visualize how Americans like their steak done via a bar blot showing preference for rare, medium rare, etc. \n",
    "\n",
    "we can pass the column names to `CSV.read` manually via header. we also pass `copycols=true` to make the columns mutable, since we will later drop missing values."
   ]
  },
  {
   "cell_type": "code",
   "execution_count": 2,
   "id": "907b1a82",
   "metadata": {},
   "outputs": [
    {
     "data": {
      "text/html": [
       "<div><div style = \"float: left;\"><span>10×2 DataFrame</span></div><div style = \"clear: both;\"></div></div><div class = \"data-frame\" style = \"overflow-x: scroll;\"><table class = \"data-frame\" style = \"margin-bottom: 6px;\"><thead><tr class = \"header\"><th class = \"rowNumber\" style = \"font-weight: bold; text-align: right;\">Row</th><th style = \"text-align: left;\">eats_steak</th><th style = \"text-align: left;\">how_cooked</th></tr><tr class = \"subheader headerLastRow\"><th class = \"rowNumber\" style = \"font-weight: bold; text-align: right;\"></th><th title = \"Union{Missing, String3}\" style = \"text-align: left;\">String3?</th><th title = \"Union{Missing, String15}\" style = \"text-align: left;\">String15?</th></tr></thead><tbody><tr><td class = \"rowNumber\" style = \"font-weight: bold; text-align: right;\">1</td><td style = \"text-align: left;\">Yes</td><td style = \"text-align: left;\">Medium rare</td></tr><tr><td class = \"rowNumber\" style = \"font-weight: bold; text-align: right;\">2</td><td style = \"text-align: left;\">Yes</td><td style = \"text-align: left;\">Rare</td></tr><tr><td class = \"rowNumber\" style = \"font-weight: bold; text-align: right;\">3</td><td style = \"text-align: left;\">Yes</td><td style = \"text-align: left;\">Medium</td></tr><tr><td class = \"rowNumber\" style = \"font-weight: bold; text-align: right;\">4</td><td style = \"text-align: left;\">Yes</td><td style = \"text-align: left;\">Medium</td></tr><tr><td class = \"rowNumber\" style = \"font-weight: bold; text-align: right;\">5</td><td style = \"text-align: left;\">Yes</td><td style = \"text-align: left;\">Medium rare</td></tr><tr><td class = \"rowNumber\" style = \"font-weight: bold; text-align: right;\">6</td><td style = \"text-align: left;\">No</td><td style = \"font-style: italic; text-align: left;\">missing</td></tr><tr><td class = \"rowNumber\" style = \"font-weight: bold; text-align: right;\">7</td><td style = \"text-align: left;\">Yes</td><td style = \"text-align: left;\">Medium rare</td></tr><tr><td class = \"rowNumber\" style = \"font-weight: bold; text-align: right;\">8</td><td style = \"text-align: left;\">Yes</td><td style = \"text-align: left;\">Medium</td></tr><tr><td class = \"rowNumber\" style = \"font-weight: bold; text-align: right;\">9</td><td style = \"text-align: left;\">Yes</td><td style = \"text-align: left;\">Medium rare</td></tr><tr><td class = \"rowNumber\" style = \"font-weight: bold; text-align: right;\">10</td><td style = \"text-align: left;\">Yes</td><td style = \"text-align: left;\">Medium rare</td></tr></tbody></table></div>"
      ],
      "text/latex": [
       "\\begin{tabular}{r|cc}\n",
       "\t& eats\\_steak & how\\_cooked\\\\\n",
       "\t\\hline\n",
       "\t& String3? & String15?\\\\\n",
       "\t\\hline\n",
       "\t1 & Yes & Medium rare \\\\\n",
       "\t2 & Yes & Rare \\\\\n",
       "\t3 & Yes & Medium \\\\\n",
       "\t4 & Yes & Medium \\\\\n",
       "\t5 & Yes & Medium rare \\\\\n",
       "\t6 & No & \\emph{missing} \\\\\n",
       "\t7 & Yes & Medium rare \\\\\n",
       "\t8 & Yes & Medium \\\\\n",
       "\t9 & Yes & Medium rare \\\\\n",
       "\t10 & Yes & Medium rare \\\\\n",
       "\\end{tabular}\n"
      ],
      "text/plain": [
       "\u001b[1m10×2 DataFrame\u001b[0m\n",
       "\u001b[1m Row \u001b[0m│\u001b[1m eats_steak \u001b[0m\u001b[1m how_cooked  \u001b[0m\n",
       "     │\u001b[90m String3?   \u001b[0m\u001b[90m String15?   \u001b[0m\n",
       "─────┼─────────────────────────\n",
       "   1 │ Yes         Medium rare\n",
       "   2 │ Yes         Rare\n",
       "   3 │ Yes         Medium\n",
       "   4 │ Yes         Medium\n",
       "   5 │ Yes         Medium rare\n",
       "   6 │ No         \u001b[90m missing     \u001b[0m\n",
       "   7 │ Yes         Medium rare\n",
       "   8 │ Yes         Medium\n",
       "   9 │ Yes         Medium rare\n",
       "  10 │ Yes         Medium rare"
      ]
     },
     "execution_count": 2,
     "metadata": {},
     "output_type": "execute_result"
    }
   ],
   "source": [
    "df_steak = CSV.read(\"steak.csv\", header=[:eats_steak, :how_cooked], copycols=true, DataFrame)\n",
    "first(df_steak, 10) # diplay only the first ten rows to avoid clutter in notebook"
   ]
  },
  {
   "cell_type": "code",
   "execution_count": 3,
   "id": "4949c838",
   "metadata": {},
   "outputs": [
    {
     "data": {
      "text/html": [
       "<div><div style = \"float: left;\"><span>10×2 DataFrame</span></div><div style = \"clear: both;\"></div></div><div class = \"data-frame\" style = \"overflow-x: scroll;\"><table class = \"data-frame\" style = \"margin-bottom: 6px;\"><thead><tr class = \"header\"><th class = \"rowNumber\" style = \"font-weight: bold; text-align: right;\">Row</th><th style = \"text-align: left;\">eats_steak</th><th style = \"text-align: left;\">how_cooked</th></tr><tr class = \"subheader headerLastRow\"><th class = \"rowNumber\" style = \"font-weight: bold; text-align: right;\"></th><th title = \"String3\" style = \"text-align: left;\">String3</th><th title = \"String15\" style = \"text-align: left;\">String15</th></tr></thead><tbody><tr><td class = \"rowNumber\" style = \"font-weight: bold; text-align: right;\">1</td><td style = \"text-align: left;\">Yes</td><td style = \"text-align: left;\">Medium rare</td></tr><tr><td class = \"rowNumber\" style = \"font-weight: bold; text-align: right;\">2</td><td style = \"text-align: left;\">Yes</td><td style = \"text-align: left;\">Rare</td></tr><tr><td class = \"rowNumber\" style = \"font-weight: bold; text-align: right;\">3</td><td style = \"text-align: left;\">Yes</td><td style = \"text-align: left;\">Medium</td></tr><tr><td class = \"rowNumber\" style = \"font-weight: bold; text-align: right;\">4</td><td style = \"text-align: left;\">Yes</td><td style = \"text-align: left;\">Medium</td></tr><tr><td class = \"rowNumber\" style = \"font-weight: bold; text-align: right;\">5</td><td style = \"text-align: left;\">Yes</td><td style = \"text-align: left;\">Medium rare</td></tr><tr><td class = \"rowNumber\" style = \"font-weight: bold; text-align: right;\">6</td><td style = \"text-align: left;\">Yes</td><td style = \"text-align: left;\">Medium rare</td></tr><tr><td class = \"rowNumber\" style = \"font-weight: bold; text-align: right;\">7</td><td style = \"text-align: left;\">Yes</td><td style = \"text-align: left;\">Medium</td></tr><tr><td class = \"rowNumber\" style = \"font-weight: bold; text-align: right;\">8</td><td style = \"text-align: left;\">Yes</td><td style = \"text-align: left;\">Medium rare</td></tr><tr><td class = \"rowNumber\" style = \"font-weight: bold; text-align: right;\">9</td><td style = \"text-align: left;\">Yes</td><td style = \"text-align: left;\">Medium rare</td></tr><tr><td class = \"rowNumber\" style = \"font-weight: bold; text-align: right;\">10</td><td style = \"text-align: left;\">Yes</td><td style = \"text-align: left;\">Medium rare</td></tr></tbody></table></div>"
      ],
      "text/latex": [
       "\\begin{tabular}{r|cc}\n",
       "\t& eats\\_steak & how\\_cooked\\\\\n",
       "\t\\hline\n",
       "\t& String3 & String15\\\\\n",
       "\t\\hline\n",
       "\t1 & Yes & Medium rare \\\\\n",
       "\t2 & Yes & Rare \\\\\n",
       "\t3 & Yes & Medium \\\\\n",
       "\t4 & Yes & Medium \\\\\n",
       "\t5 & Yes & Medium rare \\\\\n",
       "\t6 & Yes & Medium rare \\\\\n",
       "\t7 & Yes & Medium \\\\\n",
       "\t8 & Yes & Medium rare \\\\\n",
       "\t9 & Yes & Medium rare \\\\\n",
       "\t10 & Yes & Medium rare \\\\\n",
       "\\end{tabular}\n"
      ],
      "text/plain": [
       "\u001b[1m10×2 DataFrame\u001b[0m\n",
       "\u001b[1m Row \u001b[0m│\u001b[1m eats_steak \u001b[0m\u001b[1m how_cooked  \u001b[0m\n",
       "     │\u001b[90m String3    \u001b[0m\u001b[90m String15    \u001b[0m\n",
       "─────┼─────────────────────────\n",
       "   1 │ Yes         Medium rare\n",
       "   2 │ Yes         Rare\n",
       "   3 │ Yes         Medium\n",
       "   4 │ Yes         Medium\n",
       "   5 │ Yes         Medium rare\n",
       "   6 │ Yes         Medium rare\n",
       "   7 │ Yes         Medium\n",
       "   8 │ Yes         Medium rare\n",
       "   9 │ Yes         Medium rare\n",
       "  10 │ Yes         Medium rare"
      ]
     },
     "execution_count": 3,
     "metadata": {},
     "output_type": "execute_result"
    }
   ],
   "source": [
    "dropmissing!(df_steak)\n",
    "first(df_steak,10)"
   ]
  },
  {
   "cell_type": "markdown",
   "id": "1e7ee105",
   "metadata": {},
   "source": [
    "Since we dropped the missing value, that means that the 'eats_steak' column is yes. We can double check by using the unique function. "
   ]
  },
  {
   "cell_type": "code",
   "execution_count": 4,
   "id": "0e54211f",
   "metadata": {},
   "outputs": [
    {
     "data": {
      "text/plain": [
       "1-element Vector{String3}:\n",
       " \"Yes\""
      ]
     },
     "execution_count": 4,
     "metadata": {},
     "output_type": "execute_result"
    }
   ],
   "source": [
    "unique(df_steak[:, \"eats_steak\"])"
   ]
  },
  {
   "cell_type": "markdown",
   "id": "a631d09f",
   "metadata": {},
   "source": [
    "It appears, that 'eats_steak' column only has 1 unique option, which is yes. \n",
    "\n",
    "Now let's count the number of people who prefer rare, mediume, rare, etc."
   ]
  },
  {
   "cell_type": "code",
   "execution_count": 11,
   "id": "fc1e4df4",
   "metadata": {},
   "outputs": [
    {
     "data": {
      "text/html": [
       "<div><div style = \"float: left;\"><span>5×2 DataFrame</span></div><div style = \"clear: both;\"></div></div><div class = \"data-frame\" style = \"overflow-x: scroll;\"><table class = \"data-frame\" style = \"margin-bottom: 6px;\"><thead><tr class = \"header\"><th class = \"rowNumber\" style = \"font-weight: bold; text-align: right;\">Row</th><th style = \"text-align: left;\">how_cooked</th><th style = \"text-align: left;\">count</th></tr><tr class = \"subheader headerLastRow\"><th class = \"rowNumber\" style = \"font-weight: bold; text-align: right;\"></th><th title = \"String15\" style = \"text-align: left;\">String15</th><th title = \"Int64\" style = \"text-align: left;\">Int64</th></tr></thead><tbody><tr><td class = \"rowNumber\" style = \"font-weight: bold; text-align: right;\">1</td><td style = \"text-align: left;\">Medium rare</td><td style = \"text-align: right;\">166</td></tr><tr><td class = \"rowNumber\" style = \"font-weight: bold; text-align: right;\">2</td><td style = \"text-align: left;\">Rare</td><td style = \"text-align: right;\">23</td></tr><tr><td class = \"rowNumber\" style = \"font-weight: bold; text-align: right;\">3</td><td style = \"text-align: left;\">Medium</td><td style = \"text-align: right;\">132</td></tr><tr><td class = \"rowNumber\" style = \"font-weight: bold; text-align: right;\">4</td><td style = \"text-align: left;\">Medium Well</td><td style = \"text-align: right;\">74</td></tr><tr><td class = \"rowNumber\" style = \"font-weight: bold; text-align: right;\">5</td><td style = \"text-align: left;\">Well</td><td style = \"text-align: right;\">35</td></tr></tbody></table></div>"
      ],
      "text/latex": [
       "\\begin{tabular}{r|cc}\n",
       "\t& how\\_cooked & count\\\\\n",
       "\t\\hline\n",
       "\t& String15 & Int64\\\\\n",
       "\t\\hline\n",
       "\t1 & Medium rare & 166 \\\\\n",
       "\t2 & Rare & 23 \\\\\n",
       "\t3 & Medium & 132 \\\\\n",
       "\t4 & Medium Well & 74 \\\\\n",
       "\t5 & Well & 35 \\\\\n",
       "\\end{tabular}\n"
      ],
      "text/plain": [
       "\u001b[1m5×2 DataFrame\u001b[0m\n",
       "\u001b[1m Row \u001b[0m│\u001b[1m how_cooked  \u001b[0m\u001b[1m count \u001b[0m\n",
       "     │\u001b[90m String15    \u001b[0m\u001b[90m Int64 \u001b[0m\n",
       "─────┼────────────────────\n",
       "   1 │ Medium rare    166\n",
       "   2 │ Rare            23\n",
       "   3 │ Medium         132\n",
       "   4 │ Medium Well     74\n",
       "   5 │ Well            35"
      ]
     },
     "execution_count": 11,
     "metadata": {},
     "output_type": "execute_result"
    }
   ],
   "source": [
    "# groupby --> Gropus the dataframe by the column `how_cooked`\n",
    "# nrow --> Counts the number of rows in eahc group\n",
    "# combine --> aggregate function replaced with combine and grouby\n",
    "# count --> neames the nwe column (You can pkc a different name if you want)\n",
    "df_steak_pref = combine(groupby(df_steak,\"how_cooked\"), nrow => \"count\") "
   ]
  },
  {
   "cell_type": "code",
   "execution_count": 12,
   "id": "32b4aca8",
   "metadata": {},
   "outputs": [
    {
     "data": {
      "text/html": [
       "<div><div style = \"float: left;\"><span>5×2 DataFrame</span></div><div style = \"clear: both;\"></div></div><div class = \"data-frame\" style = \"overflow-x: scroll;\"><table class = \"data-frame\" style = \"margin-bottom: 6px;\"><thead><tr class = \"header\"><th class = \"rowNumber\" style = \"font-weight: bold; text-align: right;\">Row</th><th style = \"text-align: left;\">how_cooked</th><th style = \"text-align: left;\">count</th></tr><tr class = \"subheader headerLastRow\"><th class = \"rowNumber\" style = \"font-weight: bold; text-align: right;\"></th><th title = \"String15\" style = \"text-align: left;\">String15</th><th title = \"Int64\" style = \"text-align: left;\">Int64</th></tr></thead><tbody><tr><td class = \"rowNumber\" style = \"font-weight: bold; text-align: right;\">1</td><td style = \"text-align: left;\">Medium rare</td><td style = \"text-align: right;\">166</td></tr><tr><td class = \"rowNumber\" style = \"font-weight: bold; text-align: right;\">2</td><td style = \"text-align: left;\">Rare</td><td style = \"text-align: right;\">23</td></tr><tr><td class = \"rowNumber\" style = \"font-weight: bold; text-align: right;\">3</td><td style = \"text-align: left;\">Medium</td><td style = \"text-align: right;\">132</td></tr><tr><td class = \"rowNumber\" style = \"font-weight: bold; text-align: right;\">4</td><td style = \"text-align: left;\">Medium Well</td><td style = \"text-align: right;\">74</td></tr><tr><td class = \"rowNumber\" style = \"font-weight: bold; text-align: right;\">5</td><td style = \"text-align: left;\">Well</td><td style = \"text-align: right;\">35</td></tr></tbody></table></div>"
      ],
      "text/latex": [
       "\\begin{tabular}{r|cc}\n",
       "\t& how\\_cooked & count\\\\\n",
       "\t\\hline\n",
       "\t& String15 & Int64\\\\\n",
       "\t\\hline\n",
       "\t1 & Medium rare & 166 \\\\\n",
       "\t2 & Rare & 23 \\\\\n",
       "\t3 & Medium & 132 \\\\\n",
       "\t4 & Medium Well & 74 \\\\\n",
       "\t5 & Well & 35 \\\\\n",
       "\\end{tabular}\n"
      ],
      "text/plain": [
       "\u001b[1m5×2 DataFrame\u001b[0m\n",
       "\u001b[1m Row \u001b[0m│\u001b[1m how_cooked  \u001b[0m\u001b[1m count \u001b[0m\n",
       "     │\u001b[90m String15    \u001b[0m\u001b[90m Int64 \u001b[0m\n",
       "─────┼────────────────────\n",
       "   1 │ Medium rare    166\n",
       "   2 │ Rare            23\n",
       "   3 │ Medium         132\n",
       "   4 │ Medium Well     74\n",
       "   5 │ Well            35"
      ]
     },
     "execution_count": 12,
     "metadata": {},
     "output_type": "execute_result"
    }
   ],
   "source": [
    "df_steak_pref"
   ]
  },
  {
   "cell_type": "markdown",
   "id": "97c5e10a",
   "metadata": {},
   "source": [
    "Let's reorder the dataframes cooking order"
   ]
  },
  {
   "cell_type": "code",
   "execution_count": 13,
   "id": "3f2e433c",
   "metadata": {},
   "outputs": [
    {
     "data": {
      "text/html": [
       "<div><div style = \"float: left;\"><span>5×2 DataFrame</span></div><div style = \"clear: both;\"></div></div><div class = \"data-frame\" style = \"overflow-x: scroll;\"><table class = \"data-frame\" style = \"margin-bottom: 6px;\"><thead><tr class = \"header\"><th class = \"rowNumber\" style = \"font-weight: bold; text-align: right;\">Row</th><th style = \"text-align: left;\">how_cooked</th><th style = \"text-align: left;\">count</th></tr><tr class = \"subheader headerLastRow\"><th class = \"rowNumber\" style = \"font-weight: bold; text-align: right;\"></th><th title = \"String15\" style = \"text-align: left;\">String15</th><th title = \"Int64\" style = \"text-align: left;\">Int64</th></tr></thead><tbody><tr><td class = \"rowNumber\" style = \"font-weight: bold; text-align: right;\">1</td><td style = \"text-align: left;\">Rare</td><td style = \"text-align: right;\">23</td></tr><tr><td class = \"rowNumber\" style = \"font-weight: bold; text-align: right;\">2</td><td style = \"text-align: left;\">Medium rare</td><td style = \"text-align: right;\">166</td></tr><tr><td class = \"rowNumber\" style = \"font-weight: bold; text-align: right;\">3</td><td style = \"text-align: left;\">Medium</td><td style = \"text-align: right;\">132</td></tr><tr><td class = \"rowNumber\" style = \"font-weight: bold; text-align: right;\">4</td><td style = \"text-align: left;\">Medium Well</td><td style = \"text-align: right;\">74</td></tr><tr><td class = \"rowNumber\" style = \"font-weight: bold; text-align: right;\">5</td><td style = \"text-align: left;\">Well</td><td style = \"text-align: right;\">35</td></tr></tbody></table></div>"
      ],
      "text/latex": [
       "\\begin{tabular}{r|cc}\n",
       "\t& how\\_cooked & count\\\\\n",
       "\t\\hline\n",
       "\t& String15 & Int64\\\\\n",
       "\t\\hline\n",
       "\t1 & Rare & 23 \\\\\n",
       "\t2 & Medium rare & 166 \\\\\n",
       "\t3 & Medium & 132 \\\\\n",
       "\t4 & Medium Well & 74 \\\\\n",
       "\t5 & Well & 35 \\\\\n",
       "\\end{tabular}\n"
      ],
      "text/plain": [
       "\u001b[1m5×2 DataFrame\u001b[0m\n",
       "\u001b[1m Row \u001b[0m│\u001b[1m how_cooked  \u001b[0m\u001b[1m count \u001b[0m\n",
       "     │\u001b[90m String15    \u001b[0m\u001b[90m Int64 \u001b[0m\n",
       "─────┼────────────────────\n",
       "   1 │ Rare            23\n",
       "   2 │ Medium rare    166\n",
       "   3 │ Medium         132\n",
       "   4 │ Medium Well     74\n",
       "   5 │ Well            35"
      ]
     },
     "execution_count": 13,
     "metadata": {},
     "output_type": "execute_result"
    }
   ],
   "source": [
    "df_steak_pref = df_steak_pref[[2,1,3,4,5], :]"
   ]
  },
  {
   "cell_type": "markdown",
   "id": "4d57d7f0",
   "metadata": {},
   "source": [
    "Let's go ahead a make a plot with the data"
   ]
  },
  {
   "cell_type": "code",
   "execution_count": 19,
   "id": "22355096",
   "metadata": {},
   "outputs": [
    {
     "data": {
      "text/plain": [
       "5-element PooledArrays.PooledVector{String15, UInt32, Vector{UInt32}}:\n",
       " \"Rare\"\n",
       " \"Medium rare\"\n",
       " \"Medium\"\n",
       " \"Medium Well\"\n",
       " \"Well\""
      ]
     },
     "execution_count": 19,
     "metadata": {},
     "output_type": "execute_result"
    }
   ],
   "source": [
    "bar_ids = 1:size(df_steak_pref)[1] # Gets the first element, which is the number of rows\n",
    "bar_heights = df_steak_pref[:, \"count\"]\n",
    "bar_labels = df_steak_pref[:, \"how_cooked\"]\n"
   ]
  },
  {
   "cell_type": "code",
   "execution_count": 22,
   "id": "bb5be211",
   "metadata": {},
   "outputs": [
    {
     "data": {
      "image/png": "[encoded data removed]",
      "text/plain": [
       "Figure(PyObject <Figure size 640x480 with 1 Axes>)"
      ]
     },
     "metadata": {},
     "output_type": "display_data"
    },
    {
     "data": {
      "text/plain": [
       "PyObject Text(0.5, 1.0, 'how do you like your steak?')"
      ]
     },
     "execution_count": 22,
     "metadata": {},
     "output_type": "execute_result"
    }
   ],
   "source": [
    "# construct a blank figure panel\n",
    "figure()\n",
    "\n",
    "# make bar plot (h = horizontal)\n",
    "#  first argument: y-positions to center the bars [1, 2, 3, 4, 5]\n",
    "#  second argument: length of the bars (which we want to set as the number of ppl that eat steak that way)\n",
    "barh(bar_ids, bar_heights)\n",
    "\n",
    "# specify wut to label the y-ticks\n",
    "#  first argument: where to draw the y-ticks\n",
    "#  second argument: wut text to put as a y-tick label\n",
    "yticks(bar_ids, bar_labels)\n",
    "\n",
    "# label x-axis, give a title\n",
    "xlabel(\"# responses\")\n",
    "title(\"how do you like your steak?\")\n",
    "\n",
    "# # save as pdf\n",
    "# tight_layout() # needed to adjust bounding box to include labels\n",
    "# savefig(\"steak.pdf\", format=\"pdf\")"
   ]
  },
  {
   "cell_type": "code",
   "execution_count": null,
   "id": "6de7496f",
   "metadata": {},
   "outputs": [],
   "source": []
  }
 ],
 "metadata": {
  "kernelspec": {
   "display_name": "Julia 1.11.5",
   "language": "julia",
   "name": "julia-1.11"
  },
  "language_info": {
   "file_extension": ".jl",
   "mimetype": "application/julia",
   "name": "julia",
   "version": "1.11.5"
  }
 },
 "nbformat": 4,
 "nbformat_minor": 5
}
