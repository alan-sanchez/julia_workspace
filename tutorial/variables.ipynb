{
 "cells": [
  {
   "cell_type": "markdown",
   "id": "05b592b1",
   "metadata": {},
   "source": [
    "A variable, in Julia is a name associated to a value. The following are examples:"
   ]
  },
  {
   "cell_type": "code",
   "execution_count": 2,
   "id": "5cb92a15",
   "metadata": {},
   "outputs": [
    {
     "data": {
      "text/plain": [
       "10"
      ]
     },
     "execution_count": 2,
     "metadata": {},
     "output_type": "execute_result"
    }
   ],
   "source": [
    "x = 10 # Assign the value 10 to the variable x"
   ]
  },
  {
   "cell_type": "code",
   "execution_count": 3,
   "id": "9000a94a",
   "metadata": {},
   "outputs": [
    {
     "data": {
      "text/plain": [
       "11"
      ]
     },
     "execution_count": 3,
     "metadata": {},
     "output_type": "execute_result"
    }
   ],
   "source": [
    "# Doing math with x's value\n",
    "x + 1 "
   ]
  },
  {
   "cell_type": "code",
   "execution_count": null,
   "id": "fdedb8dc",
   "metadata": {},
   "outputs": [],
   "source": []
  }
 ],
 "metadata": {
  "kernelspec": {
   "display_name": "Julia 1.11.5",
   "language": "julia",
   "name": "julia-1.11"
  },
  "language_info": {
   "file_extension": ".jl",
   "mimetype": "application/julia",
   "name": "julia",
   "version": "1.11.5"
  }
 },
 "nbformat": 4,
 "nbformat_minor": 5
}
