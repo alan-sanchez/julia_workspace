{
 "cells": [
  {
   "cell_type": "markdown",
   "id": "a0f214b2",
   "metadata": {},
   "source": [
    "### Integers\n",
    "\n",
    "Literal integers are represneted in the standard manner"
   ]
  },
  {
   "cell_type": "markdown",
   "id": "a9a4c7fb",
   "metadata": {},
   "source": [
    "The default type for an integer literal depends on whether the target system has a 32-bit architecture or a 64-bit architecture:"
   ]
  },
  {
   "cell_type": "code",
   "execution_count": null,
   "id": "179359d5",
   "metadata": {},
   "outputs": [
    {
     "name": "stdout",
     "output_type": "stream",
     "text": [
      "Int64\n",
      "Int64\n",
      "Int64\n"
     ]
    }
   ],
   "source": [
    "x = 1\n",
    "y = 1234\n",
    "println(typeof(x))\n",
    "println(typeof(y))"
   ]
  },
  {
   "cell_type": "markdown",
   "id": "b3ab7e13",
   "metadata": {},
   "source": [
    "The Julia internal variable Sys.WORD_SIZE indicates whether the target system is 32-bit or 64-bit:"
   ]
  },
  {
   "cell_type": "code",
   "execution_count": null,
   "id": "87082f18",
   "metadata": {},
   "outputs": [
    {
     "data": {
      "text/plain": [
       "64"
      ]
     },
     "execution_count": 4,
     "metadata": {},
     "output_type": "execute_result"
    }
   ],
   "source": [
    "Sys.WORD_SIZE # 64-BIT SYSTEM"
   ]
  },
  {
   "cell_type": "markdown",
   "id": "699ce339",
   "metadata": {},
   "source": [
    "Julia also defines the types Int and UInt, which are aliases for the system's signed and unsigned native integer types respectively:"
   ]
  },
  {
   "cell_type": "code",
   "execution_count": 5,
   "id": "0732e035",
   "metadata": {},
   "outputs": [
    {
     "data": {
      "text/plain": [
       "Int64"
      ]
     },
     "execution_count": 5,
     "metadata": {},
     "output_type": "execute_result"
    }
   ],
   "source": [
    "Int"
   ]
  },
  {
   "cell_type": "code",
   "execution_count": 6,
   "id": "c2e8d472",
   "metadata": {},
   "outputs": [
    {
     "data": {
      "text/plain": [
       "UInt64"
      ]
     },
     "execution_count": 6,
     "metadata": {},
     "output_type": "execute_result"
    }
   ],
   "source": [
    "UInt"
   ]
  },
  {
   "cell_type": "markdown",
   "id": "e746b116",
   "metadata": {},
   "source": [
    "The minimum and maximum representable values of primitive numeric types such as integers are given by the typemin and typemax functions:\n",
    "\n"
   ]
  },
  {
   "cell_type": "code",
   "execution_count": 7,
   "id": "083e34dd",
   "metadata": {},
   "outputs": [
    {
     "data": {
      "text/plain": [
       "(-2147483648, 2147483647)"
      ]
     },
     "execution_count": 7,
     "metadata": {},
     "output_type": "execute_result"
    }
   ],
   "source": [
    "(typemin(Int32), typemax(Int32))"
   ]
  },
  {
   "cell_type": "markdown",
   "id": "2fad6de5",
   "metadata": {},
   "source": [
    "### Overflow behavior\n",
    "In Julia, exceeding the maximum representable value of a given type results in a wraparound behavior:\n",
    "\n"
   ]
  },
  {
   "cell_type": "code",
   "execution_count": 8,
   "id": "a064aff3",
   "metadata": {},
   "outputs": [
    {
     "data": {
      "text/plain": [
       "9223372036854775807"
      ]
     },
     "execution_count": 8,
     "metadata": {},
     "output_type": "execute_result"
    }
   ],
   "source": [
    "x = typemax(Int64)"
   ]
  },
  {
   "cell_type": "code",
   "execution_count": 9,
   "id": "99ca4582",
   "metadata": {},
   "outputs": [
    {
     "data": {
      "text/plain": [
       "-9223372036854775808"
      ]
     },
     "execution_count": 9,
     "metadata": {},
     "output_type": "execute_result"
    }
   ],
   "source": [
    "x+1"
   ]
  },
  {
   "cell_type": "code",
   "execution_count": 10,
   "id": "9aa97b7c",
   "metadata": {},
   "outputs": [
    {
     "data": {
      "text/plain": [
       "true"
      ]
     },
     "execution_count": 10,
     "metadata": {},
     "output_type": "execute_result"
    }
   ],
   "source": [
    "x + 1 == typemin(Int64)"
   ]
  },
  {
   "cell_type": "markdown",
   "id": "03e0472d",
   "metadata": {},
   "source": [
    "### Floating-Point Numbers\n",
    "Literal floating-point numbers are represented in the standard formats, using E-notation when necessary:"
   ]
  },
  {
   "cell_type": "code",
   "execution_count": 11,
   "id": "65d17065",
   "metadata": {},
   "outputs": [
    {
     "data": {
      "text/plain": [
       "1.0"
      ]
     },
     "execution_count": 11,
     "metadata": {},
     "output_type": "execute_result"
    }
   ],
   "source": [
    "1.0"
   ]
  },
  {
   "cell_type": "code",
   "execution_count": 12,
   "id": "70bb6854",
   "metadata": {},
   "outputs": [
    {
     "data": {
      "text/plain": [
       "1.0"
      ]
     },
     "execution_count": 12,
     "metadata": {},
     "output_type": "execute_result"
    }
   ],
   "source": [
    "1."
   ]
  },
  {
   "cell_type": "code",
   "execution_count": 13,
   "id": "27103bf4",
   "metadata": {},
   "outputs": [
    {
     "data": {
      "text/plain": [
       "0.5"
      ]
     },
     "execution_count": 13,
     "metadata": {},
     "output_type": "execute_result"
    }
   ],
   "source": [
    "0.5"
   ]
  },
  {
   "cell_type": "code",
   "execution_count": 14,
   "id": "202af15f",
   "metadata": {},
   "outputs": [
    {
     "data": {
      "text/plain": [
       "-1.23"
      ]
     },
     "execution_count": 14,
     "metadata": {},
     "output_type": "execute_result"
    }
   ],
   "source": [
    "-1.23"
   ]
  },
  {
   "cell_type": "code",
   "execution_count": 15,
   "id": "631659c0",
   "metadata": {},
   "outputs": [
    {
     "data": {
      "text/plain": [
       "1.0e10"
      ]
     },
     "execution_count": 15,
     "metadata": {},
     "output_type": "execute_result"
    }
   ],
   "source": [
    "1e10"
   ]
  },
  {
   "cell_type": "code",
   "execution_count": 17,
   "id": "10497af5",
   "metadata": {},
   "outputs": [
    {
     "data": {
      "text/plain": [
       "0.00025"
      ]
     },
     "execution_count": 17,
     "metadata": {},
     "output_type": "execute_result"
    }
   ],
   "source": [
    "2.5e-4"
   ]
  },
  {
   "cell_type": "code",
   "execution_count": null,
   "id": "a8b65ad6",
   "metadata": {},
   "outputs": [],
   "source": []
  }
 ],
 "metadata": {
  "kernelspec": {
   "display_name": "Julia 1.11.5",
   "language": "julia",
   "name": "julia-1.11"
  },
  "language_info": {
   "file_extension": ".jl",
   "mimetype": "application/julia",
   "name": "julia",
   "version": "1.11.5"
  }
 },
 "nbformat": 4,
 "nbformat_minor": 5
}
