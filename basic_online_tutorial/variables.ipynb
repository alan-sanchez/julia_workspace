{
 "cells": [
  {
   "cell_type": "markdown",
   "id": "05b592b1",
   "metadata": {},
   "source": [
    "A variable, in Julia is a name associated to a value. The following are examples:"
   ]
  },
  {
   "cell_type": "code",
   "execution_count": 2,
   "id": "5cb92a15",
   "metadata": {},
   "outputs": [
    {
     "data": {
      "text/plain": [
       "10"
      ]
     },
     "execution_count": 2,
     "metadata": {},
     "output_type": "execute_result"
    }
   ],
   "source": [
    "x = 10 # Assign the value 10 to the variable x"
   ]
  },
  {
   "cell_type": "code",
   "execution_count": 3,
   "id": "9000a94a",
   "metadata": {},
   "outputs": [
    {
     "data": {
      "text/plain": [
       "11"
      ]
     },
     "execution_count": 3,
     "metadata": {},
     "output_type": "execute_result"
    }
   ],
   "source": [
    "# Doing math with x's value\n",
    "x + 1 "
   ]
  },
  {
   "cell_type": "code",
   "execution_count": 4,
   "id": "fdedb8dc",
   "metadata": {},
   "outputs": [
    {
     "data": {
      "text/plain": [
       "2"
      ]
     },
     "execution_count": 4,
     "metadata": {},
     "output_type": "execute_result"
    }
   ],
   "source": [
    "# Reassign x's value\n",
    "x = 1 + 1"
   ]
  },
  {
   "cell_type": "code",
   "execution_count": 5,
   "id": "958ea4ac",
   "metadata": {},
   "outputs": [
    {
     "data": {
      "text/plain": [
       "\"Hello World!\""
      ]
     },
     "execution_count": 5,
     "metadata": {},
     "output_type": "execute_result"
    }
   ],
   "source": [
    "# You can assign values of other types, like strings of text\n",
    "x = \"Hello World!\""
   ]
  },
  {
   "cell_type": "code",
   "execution_count": 12,
   "id": "3c88b189",
   "metadata": {},
   "outputs": [
    {
     "name": "stdout",
     "output_type": "stream",
     "text": [
      "π\n"
     ]
    },
    {
     "data": {
      "text/plain": [
       "2.0"
      ]
     },
     "execution_count": 12,
     "metadata": {},
     "output_type": "execute_result"
    }
   ],
   "source": [
    "# Other built in libraries in Julia\n",
    "println(pi)\n",
    "sqrt(4)"
   ]
  },
  {
   "cell_type": "markdown",
   "id": "647db25f",
   "metadata": {},
   "source": [
    "## Assignment expression and assignment versus mutation"
   ]
  },
  {
   "cell_type": "markdown",
   "id": "3b4ab28f",
   "metadata": {},
   "source": [
    "An assignment variable = value \"binds\" the name variable to the value computed on the right-hand side, and the whole assignment is treated by Julia as an expression equal to the right-hand-side value. This means that assignments can be chained (the same value assigned to multiple variables with variable1 = variable2 = value) or used in other expressions, and is also why their result is shown in the REPL as the value of the right-hand side."
   ]
  },
  {
   "cell_type": "code",
   "execution_count": 17,
   "id": "b5d96751",
   "metadata": {},
   "outputs": [
    {
     "data": {
      "text/plain": [
       "7"
      ]
     },
     "execution_count": 17,
     "metadata": {},
     "output_type": "execute_result"
    }
   ],
   "source": [
    "a = (b = 2+2) +3"
   ]
  },
  {
   "cell_type": "code",
   "execution_count": 18,
   "id": "8581153e",
   "metadata": {},
   "outputs": [
    {
     "name": "stdout",
     "output_type": "stream",
     "text": [
      "7\n",
      "4\n"
     ]
    }
   ],
   "source": [
    "println(a)\n",
    "println(b)"
   ]
  },
  {
   "cell_type": "markdown",
   "id": "c175e1a1",
   "metadata": {},
   "source": [
    "Let's provide some examples with Arrays"
   ]
  },
  {
   "cell_type": "code",
   "execution_count": 20,
   "id": "12fd6fb2",
   "metadata": {},
   "outputs": [
    {
     "data": {
      "text/plain": [
       "3-element Vector{Int64}:\n",
       " 1\n",
       " 2\n",
       " 3"
      ]
     },
     "execution_count": 20,
     "metadata": {},
     "output_type": "execute_result"
    }
   ],
   "source": [
    "a = [1,2,3] # an array of 3 integers"
   ]
  },
  {
   "cell_type": "code",
   "execution_count": 22,
   "id": "bd605d88",
   "metadata": {},
   "outputs": [
    {
     "data": {
      "text/plain": [
       "3-element Vector{Int64}:\n",
       " 1\n",
       " 2\n",
       " 3"
      ]
     },
     "execution_count": 22,
     "metadata": {},
     "output_type": "execute_result"
    }
   ],
   "source": [
    "b = a # both b and a are names for the same array. This is pointing to the same memory address, not creating a copy"
   ]
  },
  {
   "cell_type": "code",
   "execution_count": 23,
   "id": "064e1698",
   "metadata": {},
   "outputs": [
    {
     "data": {
      "text/plain": [
       "42"
      ]
     },
     "execution_count": 23,
     "metadata": {},
     "output_type": "execute_result"
    }
   ],
   "source": [
    "a[1] = 42 # change the first element"
   ]
  },
  {
   "cell_type": "code",
   "execution_count": 24,
   "id": "c81cc616",
   "metadata": {},
   "outputs": [
    {
     "data": {
      "text/plain": [
       "3.14159"
      ]
     },
     "execution_count": 24,
     "metadata": {},
     "output_type": "execute_result"
    }
   ],
   "source": [
    "a = 3.14159 # A is now the name of a different object (double)"
   ]
  },
  {
   "cell_type": "code",
   "execution_count": 25,
   "id": "dcacc123",
   "metadata": {},
   "outputs": [
    {
     "data": {
      "text/plain": [
       "3-element Vector{Int64}:\n",
       " 42\n",
       "  2\n",
       "  3"
      ]
     },
     "execution_count": 25,
     "metadata": {},
     "output_type": "execute_result"
    }
   ],
   "source": [
    "b # be refers to the original array object, which has been mutated"
   ]
  }
 ],
 "metadata": {
  "kernelspec": {
   "display_name": "Julia 1.11.5",
   "language": "julia",
   "name": "julia-1.11"
  },
  "language_info": {
   "file_extension": ".jl",
   "mimetype": "application/julia",
   "name": "julia",
   "version": "1.11.5"
  }
 },
 "nbformat": 4,
 "nbformat_minor": 5
}
